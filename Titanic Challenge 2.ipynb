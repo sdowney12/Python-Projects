{
 "cells": [
  {
   "cell_type": "markdown",
   "metadata": {},
   "source": [
    "# Titanic Project"
   ]
  },
  {
   "cell_type": "markdown",
   "metadata": {},
   "source": [
    "### Version History:\n",
    "\n",
    "Version 1: Ran Chris's Model, got a 75%\n",
    "\n",
    "Version 2: Changed Age bins to parse by decade, changed fare to split into above and below average, dropped Cabin, but added Embarked back in, changed test data to 35%, got a 73%\n",
    "\n",
    "Version 3: Changed Age bins to decrease the number of them, changed test data to 50%, got a 74%\n",
    "\n",
    "Version 4: Ran a logistic regression, got a 77%\n",
    "\n",
    "Version 5: Ran a random forest, got a 75%\n",
    "\n",
    "Version 6: Combined SibSp and Parch into one variable to determine whether or not a passenger was alone, reran the decision tree, got a 77%\n",
    "\n",
    "Version 7:Ran a Logistic Regression on the new data, got a 76%\n",
    "\n",
    "Version 8: Ran a random forest on the new data, got a 75% again\n",
    "\n",
    "Version 9: Ran a 5-nearest neighbors classifier, got a 75%\n",
    "\n",
    "Version 10: Ran a decision tree with entropy as the splitting criterion, got a 77.5%\n",
    "\n",
    "Version 11: Ran a decision tree with random as the splitter and entropy as the criterion, got a 76%\n",
    "\n",
    "Version 12: Added a column that takes a person's title, ran the decision tree with entropy as the criterion, got a 77%\n",
    "\n",
    "Version 13: Reduced the values in the title column so that there are only 7, ran the same model as the previous version, got a 77% again\n",
    "\n",
    "Version 14: Ran a logistic regression on the new data, got a 76.5%\n",
    "\n",
    "Version 15: Ran a 5-fold cross validated logistic regression on the new data, got a 74%\n",
    "\n",
    "*Version 16: Went back to data before the title variable, this time replaced Age missing values using the mean and the mode for Embarked, ran decision tree with entropy as splitting criterion, got a 78%\n",
    "\n",
    "Version 17: Added title variable back in, ran the same decision tree, got the same exact score (78%)\n",
    "\n",
    "*=best model"
   ]
  },
  {
   "cell_type": "markdown",
   "metadata": {},
   "source": [
    "1. What is the purpose of the project?\n",
    "    \n",
    "    The purpose of this project is to create a model that best predicts whether a not a passenger will survive based on given variables."
   ]
  },
  {
   "cell_type": "code",
   "execution_count": 1,
   "metadata": {},
   "outputs": [],
   "source": [
    "import numpy as np\n",
    "import pandas as pd\n",
    "import statistics as st"
   ]
  },
  {
   "cell_type": "markdown",
   "metadata": {},
   "source": [
    "2. Why to have a test and train dataset\n",
    "\n",
    "We have test and train data sets so we have some data that has not been seen by our model to test it's performance. The train data set is used to create the model through machine learning, and the data from the test set is then run through the model, and the predicted results are compared to the real values to quantify model performance. In this set, the train data has 891 observations, while the test dataset has 418 observations."
   ]
  },
  {
   "cell_type": "code",
   "execution_count": 2,
   "metadata": {},
   "outputs": [
    {
     "data": {
      "text/html": [
       "<div>\n",
       "<style scoped>\n",
       "    .dataframe tbody tr th:only-of-type {\n",
       "        vertical-align: middle;\n",
       "    }\n",
       "\n",
       "    .dataframe tbody tr th {\n",
       "        vertical-align: top;\n",
       "    }\n",
       "\n",
       "    .dataframe thead th {\n",
       "        text-align: right;\n",
       "    }\n",
       "</style>\n",
       "<table border=\"1\" class=\"dataframe\">\n",
       "  <thead>\n",
       "    <tr style=\"text-align: right;\">\n",
       "      <th></th>\n",
       "      <th>PassengerId</th>\n",
       "      <th>Survived</th>\n",
       "      <th>Pclass</th>\n",
       "      <th>Name</th>\n",
       "      <th>Sex</th>\n",
       "      <th>Age</th>\n",
       "      <th>SibSp</th>\n",
       "      <th>Parch</th>\n",
       "      <th>Ticket</th>\n",
       "      <th>Fare</th>\n",
       "      <th>Cabin</th>\n",
       "      <th>Embarked</th>\n",
       "    </tr>\n",
       "  </thead>\n",
       "  <tbody>\n",
       "    <tr>\n",
       "      <th>120</th>\n",
       "      <td>121</td>\n",
       "      <td>0</td>\n",
       "      <td>2</td>\n",
       "      <td>Hickman, Mr. Stanley George</td>\n",
       "      <td>male</td>\n",
       "      <td>21.0</td>\n",
       "      <td>2</td>\n",
       "      <td>0</td>\n",
       "      <td>S.O.C. 14879</td>\n",
       "      <td>73.500</td>\n",
       "      <td>NaN</td>\n",
       "      <td>S</td>\n",
       "    </tr>\n",
       "    <tr>\n",
       "      <th>37</th>\n",
       "      <td>38</td>\n",
       "      <td>0</td>\n",
       "      <td>3</td>\n",
       "      <td>Cann, Mr. Ernest Charles</td>\n",
       "      <td>male</td>\n",
       "      <td>21.0</td>\n",
       "      <td>0</td>\n",
       "      <td>0</td>\n",
       "      <td>A./5. 2152</td>\n",
       "      <td>8.050</td>\n",
       "      <td>NaN</td>\n",
       "      <td>S</td>\n",
       "    </tr>\n",
       "    <tr>\n",
       "      <th>150</th>\n",
       "      <td>151</td>\n",
       "      <td>0</td>\n",
       "      <td>2</td>\n",
       "      <td>Bateman, Rev. Robert James</td>\n",
       "      <td>male</td>\n",
       "      <td>51.0</td>\n",
       "      <td>0</td>\n",
       "      <td>0</td>\n",
       "      <td>S.O.P. 1166</td>\n",
       "      <td>12.525</td>\n",
       "      <td>NaN</td>\n",
       "      <td>S</td>\n",
       "    </tr>\n",
       "  </tbody>\n",
       "</table>\n",
       "</div>"
      ],
      "text/plain": [
       "     PassengerId  Survived  Pclass                         Name   Sex   Age  \\\n",
       "120          121         0       2  Hickman, Mr. Stanley George  male  21.0   \n",
       "37            38         0       3     Cann, Mr. Ernest Charles  male  21.0   \n",
       "150          151         0       2   Bateman, Rev. Robert James  male  51.0   \n",
       "\n",
       "     SibSp  Parch        Ticket    Fare Cabin Embarked  \n",
       "120      2      0  S.O.C. 14879  73.500   NaN        S  \n",
       "37       0      0    A./5. 2152   8.050   NaN        S  \n",
       "150      0      0   S.O.P. 1166  12.525   NaN        S  "
      ]
     },
     "execution_count": 2,
     "metadata": {},
     "output_type": "execute_result"
    }
   ],
   "source": [
    "data_train=pd.read_csv('train.csv')\n",
    "data_test=pd.read_csv('test.csv')\n",
    "data_train.sample(3)"
   ]
  },
  {
   "cell_type": "markdown",
   "metadata": {},
   "source": [
    "Creating a bar chart of the location embarked and survival rate, including error bars"
   ]
  },
  {
   "cell_type": "code",
   "execution_count": 4,
   "metadata": {},
   "outputs": [
    {
     "data": {
      "text/plain": [
       "<matplotlib.axes._subplots.AxesSubplot at 0x1f1c91d8128>"
      ]
     },
     "execution_count": 4,
     "metadata": {},
     "output_type": "execute_result"
    },
    {
     "data": {
      "image/png": "[encoded data removed]",
      "text/plain": [
       "<Figure size 432x288 with 1 Axes>"
      ]
     },
     "metadata": {},
     "output_type": "display_data"
    }
   ],
   "source": [
    "import matplotlib.pyplot as plt\n",
    "import seaborn as sns\n",
    "%matplotlib inline\n",
    "\n",
    "sns.barplot(x=\"Embarked\",y=\"Survived\",hue=\"Sex\",data=data_train)"
   ]
  },
  {
   "cell_type": "markdown",
   "metadata": {},
   "source": [
    "3. Explain the bar chart\n",
    "\n",
    "This bar chart is showing the proportion of males and females that boarded the Titanic at each port who survived, with added error bars. It shows that females who embarked at Cherbourg have the highest proportion of survivors."
   ]
  },
  {
   "cell_type": "markdown",
   "metadata": {},
   "source": [
    "Creating a line chart showing survival rate by Pclass, split by gender"
   ]
  },
  {
   "cell_type": "code",
   "execution_count": 5,
   "metadata": {},
   "outputs": [
    {
     "data": {
      "text/plain": [
       "<matplotlib.axes._subplots.AxesSubplot at 0x1f1c9527f98>"
      ]
     },
     "execution_count": 5,
     "metadata": {},
     "output_type": "execute_result"
    },
    {
     "data": {
      "image/png": "[encoded data removed]",
      "text/plain": [
       "<Figure size 432x288 with 1 Axes>"
      ]
     },
     "metadata": {},
     "output_type": "display_data"
    }
   ],
   "source": [
    "sns.pointplot(x=\"Pclass\",y=\"Survived\",hue=\"Sex\",data=data_train,palette={\"male\":\"blue\",\"female\":\"pink\"},markers=[\"*\",\"o\"],linestyles=[\"-\", \"--\"])"
   ]
  },
  {
   "cell_type": "markdown",
   "metadata": {},
   "source": [
    "4. Explain the line chart.\n",
    "\n",
    "This line chart is showing the proportion of males and females that survived the Titanic,  by their passenger class. It shows that females in Class 1 and 2 have the highest proportion of survivors."
   ]
  },
  {
   "cell_type": "code",
   "execution_count": 7,
   "metadata": {},
   "outputs": [],
   "source": [
    "import plotly\n",
    "plotly.tools.set_credentials_file(username='sdowney1', api_key='PC2qXy2yuYoEwvACH4Fr')"
   ]
  },
  {
   "cell_type": "code",
   "execution_count": 3,
   "metadata": {},
   "outputs": [
    {
     "data": {
      "text/html": [
       "<iframe id=\"igraph\" scrolling=\"no\" style=\"border:none;\" seamless=\"seamless\" src=\"https://plot.ly/~sdowney1/8.embed\" height=\"525px\" width=\"100%\"></iframe>"
      ],
      "text/plain": [
       "<plotly.tools.PlotlyDisplay object>"
      ]
     },
     "execution_count": 3,
     "metadata": {},
     "output_type": "execute_result"
    }
   ],
   "source": [
    "import plotly.plotly as py\n",
    "import plotly.graph_objs as go\n",
    "\n",
    "trace = go.Scatter(\n",
    "    x = data_train[\"Age\"],\n",
    "    y = data_train[\"Fare\"],\n",
    "    mode = 'markers'\n",
    ")\n",
    "data=[trace]\n",
    "layout= go.Layout(\n",
    "    title= 'Age vs Fare',\n",
    "    hovermode= 'closest',\n",
    "    xaxis= dict(\n",
    "        title= 'Age',\n",
    "        ticklen= 5,\n",
    "        zeroline= False,\n",
    "        gridwidth= 2,\n",
    "    ),\n",
    "    yaxis=dict(\n",
    "        title= 'Fare',\n",
    "        ticklen= 5,\n",
    "        gridwidth= 2,\n",
    "    ),\n",
    "    showlegend= False\n",
    ")\n",
    "fig= go.Figure(data=data, layout=layout)\n",
    "py.iplot(fig)"
   ]
  },
  {
   "cell_type": "markdown",
   "metadata": {},
   "source": [
    "5. What is overfitting? Why do we care?\n",
    "\n",
    "Overfitting is when you train the model on too much of the data so that it appears to be a perfect model. However, when a model is overfit, it usually does not perform well on testing data because it was trained too precisely."
   ]
  },
  {
   "cell_type": "markdown",
   "metadata": {},
   "source": [
    "Function to split ages into 6 categories"
   ]
  },
  {
   "cell_type": "code",
   "execution_count": 110,
   "metadata": {},
   "outputs": [],
   "source": [
    "def simplify_ages(df):\n",
    "    df.Age=df.Age.astype('float64')\n",
    "    mean_age=round(np.nanmean(df.Age),2)\n",
    "    #df.Age=df.Age.fillna(-0.5)\n",
    "    #bins=(-1,0,16,32,48,64,120)\n",
    "    #group_names=[\"Unknown\",\"Child/Teen\",\"Young Adult\",\"Adult\",\"Middle Aged\",\"Senior\"]\n",
    "    df.Age=df.Age.fillna(mean_age)\n",
    "    bins=(0,16,32,48,64,120)\n",
    "    group_names=[\"Child/Teen\",\"Young Adult\",\"Adult\",\"Middle Aged\",\"Senior\"]\n",
    "    categories=pd.cut(df.Age,bins,labels=group_names)\n",
    "    df.Age=categories\n",
    "    return df"
   ]
  },
  {
   "cell_type": "markdown",
   "metadata": {},
   "source": [
    "Function to split the fares into above average and below average"
   ]
  },
  {
   "cell_type": "code",
   "execution_count": 111,
   "metadata": {},
   "outputs": [],
   "source": [
    "def simplify_fares(df):\n",
    "    df.Fare=df.Fare.fillna(-0.5)\n",
    "    mean_Fare=st.mean(df.Fare)\n",
    "    bins=(-1,0,mean_Fare,max(df.Fare)+1)\n",
    "    group_names=[\"Unknown\",\"Below Average\",\"Above Average\"]\n",
    "    categories=pd.cut(df.Fare,bins,labels=group_names)\n",
    "    df.Fare=categories\n",
    "    return df"
   ]
  },
  {
   "cell_type": "markdown",
   "metadata": {},
   "source": [
    "Function to fill the missing values in the Embarked column"
   ]
  },
  {
   "cell_type": "code",
   "execution_count": 112,
   "metadata": {},
   "outputs": [],
   "source": [
    "def simplify_embarked(df):\n",
    "    #df.Embarked=df.Embarked.fillna('N')\n",
    "    mode=st.mode(df.Embarked)\n",
    "    df.Embarked=df.Embarked.fillna(mode)\n",
    "    return df"
   ]
  },
  {
   "cell_type": "markdown",
   "metadata": {},
   "source": [
    "Function that combines the SibSp and Parch columns to create one variable to say if the passenger was traveling alone or with family"
   ]
  },
  {
   "cell_type": "code",
   "execution_count": 113,
   "metadata": {},
   "outputs": [],
   "source": [
    "def simplify_family(df):\n",
    "    df.SibSp=df.SibSp.fillna(-0.5)\n",
    "    df.Parch=df.Parch.fillna(-0.5)\n",
    "    df['FamSize']=df['SibSp']+df['Parch']\n",
    "    bins=(-2,-0.25,0.5,20)\n",
    "    group_names=[\"Unknown\",\"Alone\",\"Family\"]\n",
    "    categories=pd.cut(df.FamSize,bins,labels=group_names)\n",
    "    df.FamSize=categories\n",
    "    return(df)"
   ]
  },
  {
   "cell_type": "markdown",
   "metadata": {},
   "source": [
    "Function that pulls a passenger's title from their name"
   ]
  },
  {
   "cell_type": "code",
   "execution_count": 114,
   "metadata": {},
   "outputs": [],
   "source": [
    "def simplify_names(df):\n",
    "    df['Title'] = df.Name.str.extract(' ([A-Za-z]+)\\.', expand=False)\n",
    "    df['Title'] = df['Title'].replace(['Mrs','Mme'], 'Married Female')\n",
    "    df['Title'] = df['Title'].replace(['Miss','Ms','Mlle'], 'Single Female')\n",
    "    df['Title'] = df['Title'].replace(['Master','Capt','Sir','Don','Major', 'Col','Jonkheer'], 'Upper Male')\n",
    "    df['Title'] = df['Title'].replace(['Lady','Countess'], 'Upper Female')\n",
    "    return df"
   ]
  },
  {
   "cell_type": "markdown",
   "metadata": {},
   "source": [
    "Function to drop unnessecary variables"
   ]
  },
  {
   "cell_type": "code",
   "execution_count": 115,
   "metadata": {},
   "outputs": [],
   "source": [
    "def drop_features(df):\n",
    "    return df.drop(['Ticket','Name','Cabin','SibSp','Parch'],axis=1)"
   ]
  },
  {
   "cell_type": "markdown",
   "metadata": {},
   "source": [
    "Function to run all of the previously defined functions at once"
   ]
  },
  {
   "cell_type": "code",
   "execution_count": 116,
   "metadata": {},
   "outputs": [],
   "source": [
    "def transform_features(df):\n",
    "    df=simplify_ages(df)\n",
    "    df=simplify_fares(df)\n",
    "    df=simplify_embarked(df)\n",
    "    df=simplify_family(df)\n",
    "    df=simplify_names(df)\n",
    "    df=drop_features(df)\n",
    "    return df"
   ]
  },
  {
   "cell_type": "markdown",
   "metadata": {},
   "source": [
    "6. Explain the transformations.\n",
    "\n",
    "The transformations are used to avoid overfitting the model. Ages are grouped into logical categories so that the model will look at these instead of the individual numeric ages. Like Age, fare was simplified down into categories so that the model will not train on individual fares (there is a wide range of fares, which may cause errors) The embarked function simply replaces missing values with the most frequent location. The family function combines 2 of the variables to decrease the number of dimensions used by the models, and the names transformation pulls out a person's title, as it is most likely an indicator of their class. "
   ]
  },
  {
   "cell_type": "markdown",
   "metadata": {},
   "source": [
    "Running all the functions on both the training and testing data"
   ]
  },
  {
   "cell_type": "code",
   "execution_count": 117,
   "metadata": {},
   "outputs": [
    {
     "data": {
      "text/html": [
       "<div>\n",
       "<style scoped>\n",
       "    .dataframe tbody tr th:only-of-type {\n",
       "        vertical-align: middle;\n",
       "    }\n",
       "\n",
       "    .dataframe tbody tr th {\n",
       "        vertical-align: top;\n",
       "    }\n",
       "\n",
       "    .dataframe thead th {\n",
       "        text-align: right;\n",
       "    }\n",
       "</style>\n",
       "<table border=\"1\" class=\"dataframe\">\n",
       "  <thead>\n",
       "    <tr style=\"text-align: right;\">\n",
       "      <th></th>\n",
       "      <th>PassengerId</th>\n",
       "      <th>Survived</th>\n",
       "      <th>Pclass</th>\n",
       "      <th>Sex</th>\n",
       "      <th>Age</th>\n",
       "      <th>Fare</th>\n",
       "      <th>Embarked</th>\n",
       "      <th>FamSize</th>\n",
       "      <th>Title</th>\n",
       "    </tr>\n",
       "  </thead>\n",
       "  <tbody>\n",
       "    <tr>\n",
       "      <th>0</th>\n",
       "      <td>1</td>\n",
       "      <td>0</td>\n",
       "      <td>3</td>\n",
       "      <td>male</td>\n",
       "      <td>Young Adult</td>\n",
       "      <td>Below Average</td>\n",
       "      <td>S</td>\n",
       "      <td>Family</td>\n",
       "      <td>Mr</td>\n",
       "    </tr>\n",
       "    <tr>\n",
       "      <th>1</th>\n",
       "      <td>2</td>\n",
       "      <td>1</td>\n",
       "      <td>1</td>\n",
       "      <td>female</td>\n",
       "      <td>Adult</td>\n",
       "      <td>Above Average</td>\n",
       "      <td>C</td>\n",
       "      <td>Family</td>\n",
       "      <td>Married Female</td>\n",
       "    </tr>\n",
       "    <tr>\n",
       "      <th>2</th>\n",
       "      <td>3</td>\n",
       "      <td>1</td>\n",
       "      <td>3</td>\n",
       "      <td>female</td>\n",
       "      <td>Young Adult</td>\n",
       "      <td>Below Average</td>\n",
       "      <td>S</td>\n",
       "      <td>Alone</td>\n",
       "      <td>Single Female</td>\n",
       "    </tr>\n",
       "    <tr>\n",
       "      <th>3</th>\n",
       "      <td>4</td>\n",
       "      <td>1</td>\n",
       "      <td>1</td>\n",
       "      <td>female</td>\n",
       "      <td>Adult</td>\n",
       "      <td>Above Average</td>\n",
       "      <td>S</td>\n",
       "      <td>Family</td>\n",
       "      <td>Married Female</td>\n",
       "    </tr>\n",
       "    <tr>\n",
       "      <th>4</th>\n",
       "      <td>5</td>\n",
       "      <td>0</td>\n",
       "      <td>3</td>\n",
       "      <td>male</td>\n",
       "      <td>Adult</td>\n",
       "      <td>Below Average</td>\n",
       "      <td>S</td>\n",
       "      <td>Alone</td>\n",
       "      <td>Mr</td>\n",
       "    </tr>\n",
       "    <tr>\n",
       "      <th>5</th>\n",
       "      <td>6</td>\n",
       "      <td>0</td>\n",
       "      <td>3</td>\n",
       "      <td>male</td>\n",
       "      <td>Young Adult</td>\n",
       "      <td>Below Average</td>\n",
       "      <td>Q</td>\n",
       "      <td>Alone</td>\n",
       "      <td>Mr</td>\n",
       "    </tr>\n",
       "  </tbody>\n",
       "</table>\n",
       "</div>"
      ],
      "text/plain": [
       "   PassengerId  Survived  Pclass     Sex          Age           Fare Embarked  \\\n",
       "0            1         0       3    male  Young Adult  Below Average        S   \n",
       "1            2         1       1  female        Adult  Above Average        C   \n",
       "2            3         1       3  female  Young Adult  Below Average        S   \n",
       "3            4         1       1  female        Adult  Above Average        S   \n",
       "4            5         0       3    male        Adult  Below Average        S   \n",
       "5            6         0       3    male  Young Adult  Below Average        Q   \n",
       "\n",
       "  FamSize           Title  \n",
       "0  Family              Mr  \n",
       "1  Family  Married Female  \n",
       "2   Alone   Single Female  \n",
       "3  Family  Married Female  \n",
       "4   Alone              Mr  \n",
       "5   Alone              Mr  "
      ]
     },
     "execution_count": 117,
     "metadata": {},
     "output_type": "execute_result"
    }
   ],
   "source": [
    "data_train=transform_features(data_train)\n",
    "data_test=transform_features(data_test)\n",
    "data_train[:6]"
   ]
  },
  {
   "cell_type": "markdown",
   "metadata": {},
   "source": [
    "Encoding all the variables so that they are numbers instead of strings for model building"
   ]
  },
  {
   "cell_type": "code",
   "execution_count": 121,
   "metadata": {},
   "outputs": [
    {
     "data": {
      "text/html": [
       "<div>\n",
       "<style scoped>\n",
       "    .dataframe tbody tr th:only-of-type {\n",
       "        vertical-align: middle;\n",
       "    }\n",
       "\n",
       "    .dataframe tbody tr th {\n",
       "        vertical-align: top;\n",
       "    }\n",
       "\n",
       "    .dataframe thead th {\n",
       "        text-align: right;\n",
       "    }\n",
       "</style>\n",
       "<table border=\"1\" class=\"dataframe\">\n",
       "  <thead>\n",
       "    <tr style=\"text-align: right;\">\n",
       "      <th></th>\n",
       "      <th>PassengerId</th>\n",
       "      <th>Survived</th>\n",
       "      <th>Pclass</th>\n",
       "      <th>Sex</th>\n",
       "      <th>Age</th>\n",
       "      <th>Fare</th>\n",
       "      <th>Embarked</th>\n",
       "      <th>FamSize</th>\n",
       "      <th>Title</th>\n",
       "    </tr>\n",
       "  </thead>\n",
       "  <tbody>\n",
       "    <tr>\n",
       "      <th>0</th>\n",
       "      <td>1</td>\n",
       "      <td>0</td>\n",
       "      <td>3</td>\n",
       "      <td>1</td>\n",
       "      <td>4</td>\n",
       "      <td>1</td>\n",
       "      <td>2</td>\n",
       "      <td>1</td>\n",
       "      <td>3</td>\n",
       "    </tr>\n",
       "    <tr>\n",
       "      <th>1</th>\n",
       "      <td>2</td>\n",
       "      <td>1</td>\n",
       "      <td>1</td>\n",
       "      <td>0</td>\n",
       "      <td>0</td>\n",
       "      <td>0</td>\n",
       "      <td>0</td>\n",
       "      <td>1</td>\n",
       "      <td>2</td>\n",
       "    </tr>\n",
       "    <tr>\n",
       "      <th>2</th>\n",
       "      <td>3</td>\n",
       "      <td>1</td>\n",
       "      <td>3</td>\n",
       "      <td>0</td>\n",
       "      <td>4</td>\n",
       "      <td>1</td>\n",
       "      <td>2</td>\n",
       "      <td>0</td>\n",
       "      <td>5</td>\n",
       "    </tr>\n",
       "    <tr>\n",
       "      <th>3</th>\n",
       "      <td>4</td>\n",
       "      <td>1</td>\n",
       "      <td>1</td>\n",
       "      <td>0</td>\n",
       "      <td>0</td>\n",
       "      <td>0</td>\n",
       "      <td>2</td>\n",
       "      <td>1</td>\n",
       "      <td>2</td>\n",
       "    </tr>\n",
       "    <tr>\n",
       "      <th>4</th>\n",
       "      <td>5</td>\n",
       "      <td>0</td>\n",
       "      <td>3</td>\n",
       "      <td>1</td>\n",
       "      <td>0</td>\n",
       "      <td>1</td>\n",
       "      <td>2</td>\n",
       "      <td>0</td>\n",
       "      <td>3</td>\n",
       "    </tr>\n",
       "    <tr>\n",
       "      <th>5</th>\n",
       "      <td>6</td>\n",
       "      <td>0</td>\n",
       "      <td>3</td>\n",
       "      <td>1</td>\n",
       "      <td>4</td>\n",
       "      <td>1</td>\n",
       "      <td>1</td>\n",
       "      <td>0</td>\n",
       "      <td>3</td>\n",
       "    </tr>\n",
       "  </tbody>\n",
       "</table>\n",
       "</div>"
      ],
      "text/plain": [
       "   PassengerId  Survived  Pclass  Sex  Age  Fare  Embarked  FamSize  Title\n",
       "0            1         0       3    1    4     1         2        1      3\n",
       "1            2         1       1    0    0     0         0        1      2\n",
       "2            3         1       3    0    4     1         2        0      5\n",
       "3            4         1       1    0    0     0         2        1      2\n",
       "4            5         0       3    1    0     1         2        0      3\n",
       "5            6         0       3    1    4     1         1        0      3"
      ]
     },
     "execution_count": 121,
     "metadata": {},
     "output_type": "execute_result"
    }
   ],
   "source": [
    "from sklearn import preprocessing \n",
    "def encode_features(df_train, df_test): \n",
    "    features = ['Fare', 'Age', 'Sex','Embarked','FamSize','Title'] \n",
    "    df_combined = pd.concat([df_train[features], df_test[features]]) \n",
    "    for feature in features: \n",
    "        le = preprocessing.LabelEncoder() \n",
    "        le = le.fit(df_combined[feature]) \n",
    "        df_train[feature] = le.transform(df_train[feature]) \n",
    "        df_test[feature] = le.transform(df_test[feature]) \n",
    "    return df_train, df_test \n",
    "\n",
    "data_train, data_test = encode_features(data_train, data_test) \n",
    "data_train[:6]"
   ]
  },
  {
   "cell_type": "markdown",
   "metadata": {},
   "source": [
    "Splitting the data into training and validation sets"
   ]
  },
  {
   "cell_type": "code",
   "execution_count": 122,
   "metadata": {},
   "outputs": [],
   "source": [
    "from sklearn.model_selection import train_test_split \n",
    "\n",
    "X_all = data_train.drop(['Survived', 'PassengerId'], axis=1) \n",
    "y_all = data_train['Survived'] \n",
    "\n",
    "num_test = 0.50 \n",
    "\n",
    "X_train, X_test, y_train, y_test = train_test_split(X_all, y_all, \n",
    "    test_size=num_test, random_state=23)"
   ]
  },
  {
   "cell_type": "markdown",
   "metadata": {},
   "source": [
    "Code to run a decision tree"
   ]
  },
  {
   "cell_type": "code",
   "execution_count": 123,
   "metadata": {},
   "outputs": [
    {
     "data": {
      "text/plain": [
       "DecisionTreeClassifier(class_weight=None, criterion='entropy', max_depth=None,\n",
       "            max_features=None, max_leaf_nodes=None,\n",
       "            min_impurity_decrease=0.0, min_impurity_split=None,\n",
       "            min_samples_leaf=1, min_samples_split=2,\n",
       "            min_weight_fraction_leaf=0.0, presort=False, random_state=None,\n",
       "            splitter='best')"
      ]
     },
     "execution_count": 123,
     "metadata": {},
     "output_type": "execute_result"
    }
   ],
   "source": [
    "from sklearn.tree import DecisionTreeClassifier\n",
    "from sklearn.metrics import accuracy_score\n",
    "\n",
    "# Choose the type of classifier. \n",
    "clf = DecisionTreeClassifier(criterion=\"entropy\")\n",
    "\n",
    "# Fit the best algorithm to the data. \n",
    "clf.fit(X_train, y_train)"
   ]
  },
  {
   "cell_type": "markdown",
   "metadata": {},
   "source": [
    "Code to run a logistic regrssion"
   ]
  },
  {
   "cell_type": "code",
   "execution_count": null,
   "metadata": {},
   "outputs": [],
   "source": [
    "from sklearn.linear_model import LogisticRegression\n",
    "from sklearn.metrics import accuracy_score\n",
    "\n",
    "# Choose the type of classifier. \n",
    "clf = LogisticRegression()\n",
    "\n",
    "# Fit the best algorithm to the data. \n",
    "clf.fit(X_train, y_train)"
   ]
  },
  {
   "cell_type": "markdown",
   "metadata": {},
   "source": [
    "Code to run a logistic regression with k-fold cross validation"
   ]
  },
  {
   "cell_type": "code",
   "execution_count": null,
   "metadata": {},
   "outputs": [],
   "source": [
    "from sklearn.linear_model import LogisticRegressionCV\n",
    "from sklearn.metrics import accuracy_score\n",
    "\n",
    "# Choose the type of classifier. \n",
    "clf = LogisticRegressionCV(cv=5)\n",
    "\n",
    "# Fit the best algorithm to the data. \n",
    "clf.fit(X_train, y_train)"
   ]
  },
  {
   "cell_type": "markdown",
   "metadata": {},
   "source": [
    "Code to run a random forest"
   ]
  },
  {
   "cell_type": "code",
   "execution_count": null,
   "metadata": {},
   "outputs": [],
   "source": [
    "from sklearn.ensemble import RandomForestClassifier\n",
    "from sklearn.metrics import accuracy_score\n",
    "\n",
    "# Choose the type of classifier. \n",
    "clf = RandomForestClassifier()\n",
    "\n",
    "# Fit the best algorithm to the data. \n",
    "clf.fit(X_train, y_train)"
   ]
  },
  {
   "cell_type": "markdown",
   "metadata": {},
   "source": [
    "Code to run a k-neighbors classification"
   ]
  },
  {
   "cell_type": "code",
   "execution_count": null,
   "metadata": {},
   "outputs": [],
   "source": [
    "from sklearn.neighbors import KNeighborsClassifier\n",
    "from sklearn.metrics import accuracy_score\n",
    "\n",
    "# Choose the type of classifier. \n",
    "clf = KNeighborsClassifier(n_neighbors=5)\n",
    "\n",
    "# Fit the best algorithm to the data. \n",
    "clf.fit(X_train, y_train)"
   ]
  },
  {
   "cell_type": "markdown",
   "metadata": {},
   "source": [
    "Making predictions on the validation set and scoring the results"
   ]
  },
  {
   "cell_type": "code",
   "execution_count": 124,
   "metadata": {},
   "outputs": [
    {
     "name": "stdout",
     "output_type": "stream",
     "text": [
      "0.8004484304932735\n"
     ]
    }
   ],
   "source": [
    "predictions = clf.predict(X_test)\n",
    "print(accuracy_score(y_test, predictions))"
   ]
  },
  {
   "cell_type": "markdown",
   "metadata": {},
   "source": [
    "Making predictions on the test data set and exporting the results so they can be uploded to Kaggle"
   ]
  },
  {
   "cell_type": "code",
   "execution_count": 126,
   "metadata": {},
   "outputs": [
    {
     "data": {
      "text/html": [
       "<div>\n",
       "<style scoped>\n",
       "    .dataframe tbody tr th:only-of-type {\n",
       "        vertical-align: middle;\n",
       "    }\n",
       "\n",
       "    .dataframe tbody tr th {\n",
       "        vertical-align: top;\n",
       "    }\n",
       "\n",
       "    .dataframe thead th {\n",
       "        text-align: right;\n",
       "    }\n",
       "</style>\n",
       "<table border=\"1\" class=\"dataframe\">\n",
       "  <thead>\n",
       "    <tr style=\"text-align: right;\">\n",
       "      <th></th>\n",
       "      <th>PassengerId</th>\n",
       "      <th>Survived</th>\n",
       "    </tr>\n",
       "  </thead>\n",
       "  <tbody>\n",
       "    <tr>\n",
       "      <th>0</th>\n",
       "      <td>892</td>\n",
       "      <td>0</td>\n",
       "    </tr>\n",
       "    <tr>\n",
       "      <th>1</th>\n",
       "      <td>893</td>\n",
       "      <td>0</td>\n",
       "    </tr>\n",
       "    <tr>\n",
       "      <th>2</th>\n",
       "      <td>894</td>\n",
       "      <td>0</td>\n",
       "    </tr>\n",
       "    <tr>\n",
       "      <th>3</th>\n",
       "      <td>895</td>\n",
       "      <td>0</td>\n",
       "    </tr>\n",
       "    <tr>\n",
       "      <th>4</th>\n",
       "      <td>896</td>\n",
       "      <td>0</td>\n",
       "    </tr>\n",
       "  </tbody>\n",
       "</table>\n",
       "</div>"
      ],
      "text/plain": [
       "   PassengerId  Survived\n",
       "0          892         0\n",
       "1          893         0\n",
       "2          894         0\n",
       "3          895         0\n",
       "4          896         0"
      ]
     },
     "execution_count": 126,
     "metadata": {},
     "output_type": "execute_result"
    }
   ],
   "source": [
    "ids = data_test['PassengerId'] \n",
    "predictions = clf.predict(data_test.drop('PassengerId', axis=1))\n",
    "output = pd.DataFrame({ 'PassengerId' : ids, 'Survived': predictions }) \n",
    "output.to_csv('titanic-predictions.csv', index = False) \n",
    "output.head()"
   ]
  },
  {
   "cell_type": "code",
   "execution_count": null,
   "metadata": {},
   "outputs": [],
   "source": []
  }
 ],
 "metadata": {
  "kernelspec": {
   "display_name": "Python 3",
   "language": "python",
   "name": "python3"
  },
  "language_info": {
   "codemirror_mode": {
    "name": "ipython",
    "version": 3
   },
   "file_extension": ".py",
   "mimetype": "text/x-python",
   "name": "python",
   "nbconvert_exporter": "python",
   "pygments_lexer": "ipython3",
   "version": "3.6.5"
  }
 },
 "nbformat": 4,
 "nbformat_minor": 2
}
