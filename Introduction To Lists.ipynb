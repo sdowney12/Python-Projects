{
 "cells": [
  {
   "cell_type": "markdown",
   "metadata": {},
   "source": [
    "# ISA330 - In Class Workbook for Chapter 3 (Intro to Lists)\n",
    "## This in class assignment will let you practice with using lists."
   ]
  },
  {
   "cell_type": "markdown",
   "metadata": {},
   "source": [
    "In this first block, prompt the user to enter the names of 4 things (you decide what you want those things to be, they could be people, places, cars, planets, etc). Store the result in a list called myThings"
   ]
  },
  {
   "cell_type": "code",
   "execution_count": 1,
   "metadata": {},
   "outputs": [
    {
     "name": "stdout",
     "output_type": "stream",
     "text": [
      "Please input 4 fruits\n",
      "Item1: apple\n",
      "Item2: pear\n",
      "Item3: banana\n",
      "Item4: peach\n"
     ]
    }
   ],
   "source": [
    "myThings=[]\n",
    "i=0\n",
    "print(\"Please input 4 fruits\")\n",
    "while i<4:\n",
    "    item=input(\"Item \"+str(i+1)+\": \")\n",
    "    myThings.append(item)\n",
    "    i=i+1"
   ]
  },
  {
   "cell_type": "markdown",
   "metadata": {},
   "source": [
    "In this next block print out the list of myThings. Then print out the lines \"The First Thing in the list is: \" and \"The Last Thing in the list is: \" where the first and last things are listed. For example, if I had a list of Pizza topiings then my output might look like this:\n",
    "\n",
    "    The list of pizza toppings includes: ['Onion', 'Mushroom', 'Pepperoni', 'Cheese']\n",
    "    The first thing in the list is: Onion\n",
    "    The last thing in the list is: Cheese\n",
    "    \n",
    "Make sure your code would work no matter how many items are in the list."
   ]
  },
  {
   "cell_type": "code",
   "execution_count": 4,
   "metadata": {},
   "outputs": [
    {
     "name": "stdout",
     "output_type": "stream",
     "text": [
      "The list of fruits includes: ['apple', 'pear', 'banana', 'peach', 'orange']\n",
      "The first thing in the list is: Apple\n",
      "The last thing in the list is: Orange\n"
     ]
    }
   ],
   "source": [
    "print(\"The list of fruits includes:\",myThings)\n",
    "print(\"The first thing in the list is: \"+myThings[0].title())\n",
    "print(\"The last thing in the list is: \"+myThings[-1].title())"
   ]
  },
  {
   "cell_type": "markdown",
   "metadata": {},
   "source": [
    "In this next block, ask the user to add another item to the list. Use the append() to add the item to the end of the list. When you are complete, rerun the block above and make a note of whether you see the new item or not."
   ]
  },
  {
   "cell_type": "code",
   "execution_count": 3,
   "metadata": {},
   "outputs": [
    {
     "name": "stdout",
     "output_type": "stream",
     "text": [
      "Please add another fruit to the list: orange\n"
     ]
    }
   ],
   "source": [
    "fruit5=input(\"Please add another fruit to the list: \")\n",
    "myThings.append(fruit5)"
   ]
  },
  {
   "cell_type": "markdown",
   "metadata": {},
   "source": [
    "Using the pop() method, remove that last item in this next block of code. After you have removed it, print \"xxx was removed from the list) where xxx is the name of the item you just removed."
   ]
  },
  {
   "cell_type": "code",
   "execution_count": 5,
   "metadata": {},
   "outputs": [
    {
     "name": "stdout",
     "output_type": "stream",
     "text": [
      "orange was removed from the list\n"
     ]
    }
   ],
   "source": [
    "popped=myThings.pop()\n",
    "print(popped+\" was removed from the list\")"
   ]
  },
  {
   "cell_type": "markdown",
   "metadata": {},
   "source": [
    "In this next block, ask the user to tell you which item you should remove, then using that information remove that item. Print the new list to confirm that it is working."
   ]
  },
  {
   "cell_type": "code",
   "execution_count": 6,
   "metadata": {},
   "outputs": [
    {
     "name": "stdout",
     "output_type": "stream",
     "text": [
      "Which item should I remove? banana\n",
      "['apple', 'pear', 'peach']\n"
     ]
    }
   ],
   "source": [
    "take=input(\"Which item should I remove? \")\n",
    "myThings.remove(take)\n",
    "print(myThings)"
   ]
  },
  {
   "cell_type": "markdown",
   "metadata": {},
   "source": [
    "In this next block, ask the user to add three more items to the list so you have a total of 6 items in your list. Confirm you list has 6 items by printing out \"The list currently has xx items\" where xx is replaced with teh count using the len() function."
   ]
  },
  {
   "cell_type": "code",
   "execution_count": 7,
   "metadata": {},
   "outputs": [
    {
     "name": "stdout",
     "output_type": "stream",
     "text": [
      "Please add 3 more fruits to the list\n",
      "Item 1: pineapple\n",
      "Item 2: kiwi\n",
      "Item 3: honeydew\n",
      "The list currently has 6 items\n"
     ]
    }
   ],
   "source": [
    "print(\"Please add 3 more fruits to the list\")\n",
    "i=0\n",
    "while i<3:\n",
    "    item=input(\"Item \"+str(i+1)+\": \")\n",
    "    myThings.append(item)\n",
    "    i=i+1\n",
    "length=len(myThings)\n",
    "print(\"The list currently has \"+str(length)+\" items\")"
   ]
  },
  {
   "cell_type": "markdown",
   "metadata": {},
   "source": [
    "Now print the list both as it exists, and reversed. Make sure you aren't changing the list permanently when you do print it in reverse."
   ]
  },
  {
   "cell_type": "code",
   "execution_count": 8,
   "metadata": {},
   "outputs": [
    {
     "name": "stdout",
     "output_type": "stream",
     "text": [
      "['apple', 'pear', 'peach', 'pineapple', 'kiwi', 'honeydew']\n",
      "['honeydew', 'kiwi', 'pineapple', 'peach', 'pear', 'apple']\n"
     ]
    }
   ],
   "source": [
    "print(myThings)\n",
    "myThings.reverse()\n",
    "print(myThings)\n",
    "myThings.reverse()"
   ]
  },
  {
   "cell_type": "markdown",
   "metadata": {},
   "source": [
    "Now sort the list alphabetically from Z -> A. Print out the list.  "
   ]
  },
  {
   "cell_type": "code",
   "execution_count": 9,
   "metadata": {},
   "outputs": [
    {
     "name": "stdout",
     "output_type": "stream",
     "text": [
      "['pineapple', 'pear', 'peach', 'kiwi', 'honeydew', 'apple']\n"
     ]
    }
   ],
   "source": [
    "print(sorted(myThings,reverse=True))"
   ]
  },
  {
   "cell_type": "markdown",
   "metadata": {},
   "source": [
    "Now permanently reverse the list (so it is from A -> Z) and print that out."
   ]
  },
  {
   "cell_type": "code",
   "execution_count": 10,
   "metadata": {},
   "outputs": [
    {
     "name": "stdout",
     "output_type": "stream",
     "text": [
      "['apple', 'honeydew', 'kiwi', 'peach', 'pear', 'pineapple']\n"
     ]
    }
   ],
   "source": [
    "myThings.sort()\n",
    "print(myThings)"
   ]
  },
  {
   "cell_type": "code",
   "execution_count": null,
   "metadata": {},
   "outputs": [],
   "source": []
  }
 ],
 "metadata": {
  "kernelspec": {
   "display_name": "Python 3",
   "language": "python",
   "name": "python3"
  },
  "language_info": {
   "codemirror_mode": {
    "name": "ipython",
    "version": 3
   },
   "file_extension": ".py",
   "mimetype": "text/x-python",
   "name": "python",
   "nbconvert_exporter": "python",
   "pygments_lexer": "ipython3",
   "version": "3.6.5"
  }
 },
 "nbformat": 4,
 "nbformat_minor": 2
}
