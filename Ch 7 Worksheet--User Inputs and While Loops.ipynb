{
 "cells": [
  {
   "cell_type": "markdown",
   "metadata": {},
   "source": [
    "## Chapter 7 Worksheet - User Input and While Loops"
   ]
  },
  {
   "cell_type": "markdown",
   "metadata": {},
   "source": [
    "Create a number guessing game where the user will try to guess a random number between 1 and 100. The rules of the game are as follows:\n",
    "* Ask the user if they want a easy game (1-10), hard game (1-100), or really hard game (1-1,000,000)\n",
    "* Prompt the user for a number\n",
    "* Generate a random number based on the type of game (you're going to have to figure this out)\n",
    "* If the user enters 'Quit' then exit (this should not be case sensitive)\n",
    "* If the user correctly guesses the number then the program should end\n",
    "* Don't allow the user to guess the same number (so you'll have to keep a list of the guessed numbers)\n",
    "* Verify that the user has entered a valid test (i.e. in between 1 and 100)\n",
    "* Tell the user if they are too high or too low\n",
    "* Allow unlimited number of guesses\n",
    "* When complete tell the user whether they won (the correctly guessed the number) or lost (they gave up).\n",
    "* When complete tell the user how many tries it took them.\n",
    "* A guess of an invalid number, or a guess of a duplicate number should not count toward the guess count\n",
    "* Make sure you are using a WHILE loop"
   ]
  },
  {
   "cell_type": "code",
   "execution_count": 1,
   "metadata": {},
   "outputs": [
    {
     "name": "stdout",
     "output_type": "stream",
     "text": [
      "Do you want an easy, hard, or really hard game?  easy\n",
      "8\n",
      "Please enter a number: quit\n",
      "Sorry, you lost\n",
      "It took you 0 tries\n"
     ]
    }
   ],
   "source": [
    "import random\n",
    "guessed=[]\n",
    "level=input(\"Do you want an easy, hard, or really hard game? \")\n",
    "cont=True\n",
    "tries=0\n",
    "while level.lower().strip()!=\"easy\" and level.lower().strip()!=\"hard\" and level.lower().strip()!=\"really hard\":\n",
    "    level=input(\"Please enter easy, hard, or really hard. \")\n",
    "if level.lower().strip()==\"easy\":\n",
    "    low=1\n",
    "    high=10\n",
    "    game=random.randint(low,high)\n",
    "elif level.lower().strip()==\"hard\":\n",
    "    low=1\n",
    "    high=100\n",
    "    game=random.randint(low,high)\n",
    "elif level.lower().strip()==\"really hard\":\n",
    "    low=1\n",
    "    high=1000000\n",
    "    game=random.randint(low,high)\n",
    "print(game)\n",
    "while cont:\n",
    "    num=input(\"Please enter a number: \")\n",
    "    if num.lower().strip()==\"quit\":\n",
    "        print(\"Sorry, you lost\")\n",
    "        break\n",
    "    else:\n",
    "        num=int(num)\n",
    "    if num<low or num>(high):\n",
    "        print(\"That number is out of range. Please enter a number between\",low,\"and\",high)\n",
    "        continue\n",
    "    if num in guessed:\n",
    "        print(\"You have already guessed that number.\")\n",
    "        continue\n",
    "    else:\n",
    "        guessed.append(num)\n",
    "        tries+=1\n",
    "    if num==game:\n",
    "        print(\"Congratulations, you won!\")\n",
    "        cont=False\n",
    "    elif num>game:\n",
    "        print(\"You guessed too high\")\n",
    "    elif num<game:\n",
    "        print(\"You guessed too low\")\n",
    "print(\"It took you \"+str(tries)+\" tries\")\n",
    "    "
   ]
  },
  {
   "cell_type": "code",
   "execution_count": null,
   "metadata": {},
   "outputs": [],
   "source": []
  }
 ],
 "metadata": {
  "kernelspec": {
   "display_name": "Python 3",
   "language": "python",
   "name": "python3"
  },
  "language_info": {
   "codemirror_mode": {
    "name": "ipython",
    "version": 3
   },
   "file_extension": ".py",
   "mimetype": "text/x-python",
   "name": "python",
   "nbconvert_exporter": "python",
   "pygments_lexer": "ipython3",
   "version": "3.6.5"
  }
 },
 "nbformat": 4,
 "nbformat_minor": 2
}
