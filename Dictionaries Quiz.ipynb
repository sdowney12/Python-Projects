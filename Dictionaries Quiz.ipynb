{
 "cells": [
  {
   "cell_type": "markdown",
   "metadata": {},
   "source": [
    "## Dictionaries quiz\n",
    "Create a dictionary to store weather for any given day. Use the following data to populate the dictionary:\n",
    "\n",
    "* Date: 7/1/2018\n",
    "* Condition: Cloudy\n",
    "* High Temp: 78.6\n",
    "* Low Temp: 67.5\n",
    "* Rainfall: 0.1\n",
    "\n",
    "### Q1: 20 Points"
   ]
  },
  {
   "cell_type": "code",
   "execution_count": 13,
   "metadata": {},
   "outputs": [],
   "source": [
    "weather={'Date':'7/1/2018','Condition':'Cloudy','High Temp':78.6,'Low Temp':67.5,'Rainfall':0.1}"
   ]
  },
  {
   "cell_type": "markdown",
   "metadata": {},
   "source": [
    "---\n",
    "Print out the weather. Include the date and condition along with a tempertature range (rounded to nearest whole number).\n",
    "\n",
    "Your output should look like this: 7/1/2018 Cloudy 68-79 degrees\n",
    "\n",
    "### Q2: 20 Points"
   ]
  },
  {
   "cell_type": "code",
   "execution_count": 14,
   "metadata": {},
   "outputs": [
    {
     "name": "stdout",
     "output_type": "stream",
     "text": [
      "7/1/2018 Cloudy 68-79 degrees\n"
     ]
    }
   ],
   "source": [
    "print(weather['Date'],weather['Condition'],str(round(weather['Low Temp']))+\"-\"+str(round(weather['High Temp']))+\" degrees\")"
   ]
  },
  {
   "cell_type": "markdown",
   "metadata": {},
   "source": [
    "---\n",
    "We're decided to store the temperature as a list (temperature throughout the day). \n",
    "\n",
    "Create a list in your dictionary and store the following temperatures: **67.5 66.8 70.1 73.5 77.6 78.6 78.4 72.6**\n",
    "\n",
    "### Q3: 20 Points"
   ]
  },
  {
   "cell_type": "code",
   "execution_count": 15,
   "metadata": {},
   "outputs": [],
   "source": [
    "weather['Temperatures']=[67.5,66.8,70.1,73.5,77.6,78.6,78.4,72.6]"
   ]
  },
  {
   "cell_type": "markdown",
   "metadata": {},
   "source": [
    "---\n",
    "Loop through the temperatures and print out the high, low, and average temperature for the day.\n",
    "\n",
    "### Q4: 20 Points"
   ]
  },
  {
   "cell_type": "code",
   "execution_count": 19,
   "metadata": {},
   "outputs": [
    {
     "name": "stdout",
     "output_type": "stream",
     "text": [
      "High Temp: 78.6\n",
      "Low Temp: 66.8\n",
      "Average Temp: 73.1\n"
     ]
    }
   ],
   "source": [
    "high_temp=0\n",
    "low_temp=1000\n",
    "avg_temp=0\n",
    "length=len(weather['Temperatures'])\n",
    "for temp in weather['Temperatures']:\n",
    "    if temp>high_temp:\n",
    "        high_temp=temp\n",
    "    elif temp<low_temp:\n",
    "        low_temp=temp\n",
    "    avg_temp=avg_temp+temp\n",
    "avg_temp=round(avg_temp/length,1)\n",
    "print(\"High Temp: \"+str(high_temp))\n",
    "print(\"Low Temp: \"+str(low_temp))\n",
    "print(\"Average Temp: \"+str(avg_temp))"
   ]
  },
  {
   "cell_type": "markdown",
   "metadata": {},
   "source": [
    "---\n",
    "Using the keys, find the Date and Condition and print out \"The condition on --date-- was --condition--\" where you replace date and condition appropriately.\n",
    "\n",
    "### Q5: 20 Points"
   ]
  },
  {
   "cell_type": "code",
   "execution_count": 20,
   "metadata": {},
   "outputs": [
    {
     "name": "stdout",
     "output_type": "stream",
     "text": [
      "The condition on 7/1/2018 was Cloudy\n"
     ]
    }
   ],
   "source": [
    "print(\"The condition on \"+weather['Date']+\" was \"+weather['Condition'])"
   ]
  },
  {
   "cell_type": "code",
   "execution_count": null,
   "metadata": {},
   "outputs": [],
   "source": []
  }
 ],
 "metadata": {
  "kernelspec": {
   "display_name": "Python 3",
   "language": "python",
   "name": "python3"
  },
  "language_info": {
   "codemirror_mode": {
    "name": "ipython",
    "version": 3
   },
   "file_extension": ".py",
   "mimetype": "text/x-python",
   "name": "python",
   "nbconvert_exporter": "python",
   "pygments_lexer": "ipython3",
   "version": "3.6.5"
  }
 },
 "nbformat": 4,
 "nbformat_minor": 2
}
