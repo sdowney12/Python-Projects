{
 "cells": [
  {
   "cell_type": "markdown",
   "metadata": {},
   "source": [
    "# Auto Fraud Dataset Challenge"
   ]
  },
  {
   "cell_type": "markdown",
   "metadata": {},
   "source": [
    "### This project involves reading in data related to Insurance Fraud in the Auto sector, preprocessing the data, and then running a variety of predictive models to see which is able to correctly classify a claim as either fraudulent or legitimate (1 for fraud, 0 for legitimate)"
   ]
  },
  {
   "cell_type": "code",
   "execution_count": 1,
   "metadata": {},
   "outputs": [],
   "source": [
    "import numpy as np\n",
    "import pandas as pd\n",
    "import matplotlib.pyplot as plt\n",
    "import seaborn as sns\n",
    "import statistics as st\n",
    "%matplotlib inline\n",
    "import plotly.plotly as py\n",
    "import plotly.graph_objs as go"
   ]
  },
  {
   "cell_type": "markdown",
   "metadata": {},
   "source": [
    "Code to connect to my plotly account so that graphs can be made using this package"
   ]
  },
  {
   "cell_type": "code",
   "execution_count": 2,
   "metadata": {},
   "outputs": [],
   "source": [
    "import plotly\n",
    "plotly.tools.set_credentials_file(username='sdowney1', api_key='PC2qXy2yuYoEwvACH4Fr')"
   ]
  },
  {
   "cell_type": "markdown",
   "metadata": {},
   "source": [
    "Reading in the training and testing data and seeing which columns in the training data have missing values"
   ]
  },
  {
   "cell_type": "code",
   "execution_count": 3,
   "metadata": {},
   "outputs": [
    {
     "data": {
      "text/plain": [
       "State_Code                        0\n",
       "State                             0\n",
       "Claim_Amount                      0\n",
       "Education                        11\n",
       "Claim_Date                        0\n",
       "Employment_Status                 0\n",
       "Gender                            0\n",
       "Income                            0\n",
       "Location                          3\n",
       "Marital_Status                    0\n",
       "Monthly_Premium                   0\n",
       "Annual_Premium                    0\n",
       "Months_Since_Last_Claim           0\n",
       "Months_Since_Policy_Inception     0\n",
       "Claim_Cause                       0\n",
       "Claim_Report_Type                 0\n",
       "Vehicle_Class                     0\n",
       "Vehicle_Size                      0\n",
       "Vehicle_Model                     0\n",
       "Outstanding_Balance               9\n",
       "Fraudulent_Claim                  0\n",
       "Claimant__Number                  0\n",
       "dtype: int64"
      ]
     },
     "execution_count": 3,
     "metadata": {},
     "output_type": "execute_result"
    }
   ],
   "source": [
    "fraud=pd.read_csv('claim_data_v2_train.csv')\n",
    "fraud_test=pd.read_csv('Claim_Score_Dataset.csv')\n",
    "fraud.isnull().sum()"
   ]
  },
  {
   "cell_type": "markdown",
   "metadata": {},
   "source": [
    "This bar graph shows the number of claims by individual State."
   ]
  },
  {
   "cell_type": "code",
   "execution_count": 4,
   "metadata": {},
   "outputs": [
    {
     "data": {
      "image/png": "[encoded data removed]",
      "text/plain": [
       "<Figure size 1008x576 with 1 Axes>"
      ]
     },
     "metadata": {},
     "output_type": "display_data"
    }
   ],
   "source": [
    "ax = fraud['State_Code'].value_counts().plot(kind='bar',\n",
    "                                         figsize = (14,8),\n",
    "                                         title = \"Claims by State\")\n",
    "ax.set_xlabel(\"States\")\n",
    "ax.set_ylabel(\"Frequency\")\n",
    "plt.show()"
   ]
  },
  {
   "cell_type": "markdown",
   "metadata": {},
   "source": [
    "This bar chart shows the distribution of how claims are reported"
   ]
  },
  {
   "cell_type": "code",
   "execution_count": 5,
   "metadata": {},
   "outputs": [
    {
     "data": {
      "image/png": "[encoded data removed]",
      "text/plain": [
       "<Figure size 1008x576 with 1 Axes>"
      ]
     },
     "metadata": {},
     "output_type": "display_data"
    }
   ],
   "source": [
    "ax = fraud['Claim_Report_Type'].value_counts().plot(kind='bar',\n",
    "                                         figsize = (14,8),\n",
    "                                         title = \"Claims by Claim Type\")\n",
    "ax.set_xlabel(\"Claim Type\")\n",
    "ax.set_ylabel(\"Frequency\")\n",
    "plt.show()"
   ]
  },
  {
   "cell_type": "markdown",
   "metadata": {},
   "source": [
    "This double histogram shows the distributions of the Months Since Policy Inception and Months Since Last Claim variables"
   ]
  },
  {
   "cell_type": "code",
   "execution_count": 6,
   "metadata": {},
   "outputs": [
    {
     "data": {
      "text/html": [
       "<iframe id=\"igraph\" scrolling=\"no\" style=\"border:none;\" seamless=\"seamless\" src=\"https://plot.ly/~sdowney1/14.embed\" height=\"525px\" width=\"100%\"></iframe>"
      ],
      "text/plain": [
       "<plotly.tools.PlotlyDisplay object>"
      ]
     },
     "execution_count": 6,
     "metadata": {},
     "output_type": "execute_result"
    }
   ],
   "source": [
    "trace0 = go.Histogram(\n",
    "    x = fraud.Months_Since_Policy_Inception, name='Months Since Policy Inception'\n",
    ")\n",
    "\n",
    "trace1 = go.Histogram(\n",
    "    x = fraud.Months_Since_Last_Claim, name='Months Since Last Claim'\n",
    ")\n",
    "\n",
    "data = [trace0, trace1]\n",
    "layout = go.Layout(barmode = \"stack\")\n",
    "fig = go.Figure (data=data,layout=layout)\n",
    "py.iplot(fig, filename = 'stacked hist')"
   ]
  },
  {
   "cell_type": "markdown",
   "metadata": {},
   "source": [
    "This histogram on the Claim Amount data shows that the variable is skewed, which means it needs to be transformed"
   ]
  },
  {
   "cell_type": "code",
   "execution_count": 7,
   "metadata": {},
   "outputs": [
    {
     "data": {
      "text/html": [
       "<iframe id=\"igraph\" scrolling=\"no\" style=\"border:none;\" seamless=\"seamless\" src=\"https://plot.ly/~sdowney1/16.embed\" height=\"525px\" width=\"100%\"></iframe>"
      ],
      "text/plain": [
       "<plotly.tools.PlotlyDisplay object>"
      ]
     },
     "execution_count": 7,
     "metadata": {},
     "output_type": "execute_result"
    }
   ],
   "source": [
    "data = [go.Histogram(x=fraud.Claim_Amount)]\n",
    "py.iplot(data, filename = 'Claim Amount Histogram')"
   ]
  },
  {
   "cell_type": "markdown",
   "metadata": {},
   "source": [
    "This histogram of revenue shows that it is a very skewed variable, so it will need to either be transformed or binned"
   ]
  },
  {
   "cell_type": "code",
   "execution_count": 8,
   "metadata": {},
   "outputs": [
    {
     "data": {
      "text/html": [
       "<iframe id=\"igraph\" scrolling=\"no\" style=\"border:none;\" seamless=\"seamless\" src=\"https://plot.ly/~sdowney1/24.embed\" height=\"525px\" width=\"100%\"></iframe>"
      ],
      "text/plain": [
       "<plotly.tools.PlotlyDisplay object>"
      ]
     },
     "execution_count": 8,
     "metadata": {},
     "output_type": "execute_result"
    }
   ],
   "source": [
    "data = [go.Histogram(x=(fraud.Income))]\n",
    "py.iplot(data, filename = \"Income\")"
   ]
  },
  {
   "cell_type": "markdown",
   "metadata": {},
   "source": [
    "These next histograms check the distibutions of the remaining numeric variables that we are not binning into categorical variables. None of them are skewed, so they will not be transformed."
   ]
  },
  {
   "cell_type": "code",
   "execution_count": 9,
   "metadata": {},
   "outputs": [
    {
     "data": {
      "text/html": [
       "<iframe id=\"igraph\" scrolling=\"no\" style=\"border:none;\" seamless=\"seamless\" src=\"https://plot.ly/~sdowney1/18.embed\" height=\"525px\" width=\"100%\"></iframe>"
      ],
      "text/plain": [
       "<plotly.tools.PlotlyDisplay object>"
      ]
     },
     "execution_count": 9,
     "metadata": {},
     "output_type": "execute_result"
    }
   ],
   "source": [
    "data = [go.Histogram(x=fraud.Monthly_Premium)]\n",
    "py.iplot(data, filename = \"Monthly Premium Histogram\")"
   ]
  },
  {
   "cell_type": "code",
   "execution_count": 10,
   "metadata": {},
   "outputs": [
    {
     "data": {
      "text/html": [
       "<iframe id=\"igraph\" scrolling=\"no\" style=\"border:none;\" seamless=\"seamless\" src=\"https://plot.ly/~sdowney1/20.embed\" height=\"525px\" width=\"100%\"></iframe>"
      ],
      "text/plain": [
       "<plotly.tools.PlotlyDisplay object>"
      ]
     },
     "execution_count": 10,
     "metadata": {},
     "output_type": "execute_result"
    }
   ],
   "source": [
    "data = [go.Histogram(x=fraud.Annual_Premium)]\n",
    "py.iplot(data, filename = \"Annual Premium Histogram\")"
   ]
  },
  {
   "cell_type": "code",
   "execution_count": 11,
   "metadata": {},
   "outputs": [
    {
     "data": {
      "text/html": [
       "<iframe id=\"igraph\" scrolling=\"no\" style=\"border:none;\" seamless=\"seamless\" src=\"https://plot.ly/~sdowney1/22.embed\" height=\"525px\" width=\"100%\"></iframe>"
      ],
      "text/plain": [
       "<plotly.tools.PlotlyDisplay object>"
      ]
     },
     "execution_count": 11,
     "metadata": {},
     "output_type": "execute_result"
    }
   ],
   "source": [
    "data = [go.Histogram(x=fraud.Outstanding_Balance)]\n",
    "py.iplot(data, filename = \"Outstanding Balance\")"
   ]
  },
  {
   "cell_type": "markdown",
   "metadata": {},
   "source": [
    "Function to fill missing values in the Outstanding Balance variable with 0s, as we assumed that a missing value meant that the car was paid off."
   ]
  },
  {
   "cell_type": "code",
   "execution_count": 12,
   "metadata": {},
   "outputs": [],
   "source": [
    "def simplify_balance(df):\n",
    "    df.Outstanding_Balance=df.Outstanding_Balance.fillna(0)\n",
    "    return df"
   ]
  },
  {
   "cell_type": "markdown",
   "metadata": {},
   "source": [
    "Function to fill missing values in the Location variable with the mode of the column"
   ]
  },
  {
   "cell_type": "code",
   "execution_count": 13,
   "metadata": {},
   "outputs": [],
   "source": [
    "def simplify_location(df):\n",
    "    mode=st.mode(df.Location)\n",
    "    df.Location=df.Location.fillna(mode)\n",
    "    return df"
   ]
  },
  {
   "cell_type": "markdown",
   "metadata": {},
   "source": [
    "Function to bin the Months Since Policy Inception Variable"
   ]
  },
  {
   "cell_type": "code",
   "execution_count": 14,
   "metadata": {},
   "outputs": [],
   "source": [
    "def simplify_inception(df):\n",
    "    bins=(-1,2,6,12,24,1000)\n",
    "    group_names=[\"1. New Customer\",\"2. 6 Months\",\"3. 1 year\",\"4. 2 years\",\"5. Long-Term Customer\"]\n",
    "    categories=pd.cut(df.Months_Since_Policy_Inception,bins,labels=group_names)\n",
    "    df.Months_Since_Policy_Inception=categories\n",
    "    return df"
   ]
  },
  {
   "cell_type": "markdown",
   "metadata": {},
   "source": [
    "Function to bin incomes into their tax brackets"
   ]
  },
  {
   "cell_type": "code",
   "execution_count": 15,
   "metadata": {},
   "outputs": [],
   "source": [
    "def simplify_income(df):\n",
    "    bins = (-0.5, 10000, 30000, 50000, 70000, 16000000)\n",
    "    group_names = ['1. Poor','2. Lower-Middle','3. Middle','4. Upper-Middle','5. Upper'] \n",
    "    categories = pd.cut(df.Income, bins, labels=group_names) \n",
    "    df.Income = categories \n",
    "    return df"
   ]
  },
  {
   "cell_type": "markdown",
   "metadata": {},
   "source": [
    "Function to fill missing education values with the mode of the column, then renaming the values to make the output of the encoding process more logical."
   ]
  },
  {
   "cell_type": "code",
   "execution_count": 16,
   "metadata": {},
   "outputs": [],
   "source": [
    "def simplify_education(df):\n",
    "    mode=st.mode(df.Education)\n",
    "    df.Education=df.Education.fillna(mode)\n",
    "    df.Education[df.Education == \"High School or Below\"]=\"1. High School or Below\"\n",
    "    df.Education[df.Education == \"College\"]=\"2. College\"\n",
    "    df.Education[df.Education == \"Bachelor\"]=\"3. Bachelor\"\n",
    "    df.Education[df.Education == \"Master\"]=\"4. Master\"\n",
    "    df.Education[df.Education == \"Doctorate\"]=\"5. Doctorate\"\n",
    "    \n",
    "    return(df)"
   ]
  },
  {
   "cell_type": "markdown",
   "metadata": {},
   "source": [
    "Function to transform the Claim Amount variable so that it is more normally distributed"
   ]
  },
  {
   "cell_type": "code",
   "execution_count": 17,
   "metadata": {},
   "outputs": [],
   "source": [
    "def normalize_claimamt(df):\n",
    "    df.Claim_Amount=np.log(df.Claim_Amount)\n",
    "    \n",
    "    return df"
   ]
  },
  {
   "cell_type": "markdown",
   "metadata": {},
   "source": [
    "Funtion to drop any unnecessary variables. For now, we only drop the State variable because the State Code variable contains the same information. We keep all other variables because they have the potential to be significant in our models."
   ]
  },
  {
   "cell_type": "code",
   "execution_count": 18,
   "metadata": {},
   "outputs": [],
   "source": [
    "def drop_vars(df):\n",
    "    return df.drop(['State'],axis=1)"
   ]
  },
  {
   "cell_type": "markdown",
   "metadata": {},
   "source": [
    "Function to run all of the previous variable transformation variables all at once"
   ]
  },
  {
   "cell_type": "code",
   "execution_count": 19,
   "metadata": {},
   "outputs": [],
   "source": [
    "def transform_vars(df):\n",
    "    df=simplify_balance(df)\n",
    "    df=simplify_location(df)\n",
    "    df=simplify_inception(df)\n",
    "    df=simplify_income(df)\n",
    "    df=simplify_education(df)\n",
    "    df=normalize_claimamt(df)\n",
    "    df=drop_vars(df)\n",
    "    \n",
    "    return df"
   ]
  },
  {
   "cell_type": "markdown",
   "metadata": {},
   "source": [
    "Running the functions on the data to clean it"
   ]
  },
  {
   "cell_type": "code",
   "execution_count": 20,
   "metadata": {},
   "outputs": [
    {
     "name": "stderr",
     "output_type": "stream",
     "text": [
      "C:\\Users\\student\\Anaconda3\\lib\\site-packages\\ipykernel_launcher.py:4: SettingWithCopyWarning:\n",
      "\n",
      "\n",
      "A value is trying to be set on a copy of a slice from a DataFrame\n",
      "\n",
      "See the caveats in the documentation: http://pandas.pydata.org/pandas-docs/stable/indexing.html#indexing-view-versus-copy\n",
      "\n",
      "C:\\Users\\student\\Anaconda3\\lib\\site-packages\\ipykernel_launcher.py:5: SettingWithCopyWarning:\n",
      "\n",
      "\n",
      "A value is trying to be set on a copy of a slice from a DataFrame\n",
      "\n",
      "See the caveats in the documentation: http://pandas.pydata.org/pandas-docs/stable/indexing.html#indexing-view-versus-copy\n",
      "\n",
      "C:\\Users\\student\\Anaconda3\\lib\\site-packages\\ipykernel_launcher.py:6: SettingWithCopyWarning:\n",
      "\n",
      "\n",
      "A value is trying to be set on a copy of a slice from a DataFrame\n",
      "\n",
      "See the caveats in the documentation: http://pandas.pydata.org/pandas-docs/stable/indexing.html#indexing-view-versus-copy\n",
      "\n",
      "C:\\Users\\student\\Anaconda3\\lib\\site-packages\\ipykernel_launcher.py:7: SettingWithCopyWarning:\n",
      "\n",
      "\n",
      "A value is trying to be set on a copy of a slice from a DataFrame\n",
      "\n",
      "See the caveats in the documentation: http://pandas.pydata.org/pandas-docs/stable/indexing.html#indexing-view-versus-copy\n",
      "\n",
      "C:\\Users\\student\\Anaconda3\\lib\\site-packages\\ipykernel_launcher.py:8: SettingWithCopyWarning:\n",
      "\n",
      "\n",
      "A value is trying to be set on a copy of a slice from a DataFrame\n",
      "\n",
      "See the caveats in the documentation: http://pandas.pydata.org/pandas-docs/stable/indexing.html#indexing-view-versus-copy\n",
      "\n"
     ]
    },
    {
     "data": {
      "text/html": [
       "<div>\n",
       "<style scoped>\n",
       "    .dataframe tbody tr th:only-of-type {\n",
       "        vertical-align: middle;\n",
       "    }\n",
       "\n",
       "    .dataframe tbody tr th {\n",
       "        vertical-align: top;\n",
       "    }\n",
       "\n",
       "    .dataframe thead th {\n",
       "        text-align: right;\n",
       "    }\n",
       "</style>\n",
       "<table border=\"1\" class=\"dataframe\">\n",
       "  <thead>\n",
       "    <tr style=\"text-align: right;\">\n",
       "      <th></th>\n",
       "      <th>State_Code</th>\n",
       "      <th>Claim_Amount</th>\n",
       "      <th>Education</th>\n",
       "      <th>Claim_Date</th>\n",
       "      <th>Employment_Status</th>\n",
       "      <th>Gender</th>\n",
       "      <th>Income</th>\n",
       "      <th>Location</th>\n",
       "      <th>Marital_Status</th>\n",
       "      <th>Monthly_Premium</th>\n",
       "      <th>...</th>\n",
       "      <th>Months_Since_Last_Claim</th>\n",
       "      <th>Months_Since_Policy_Inception</th>\n",
       "      <th>Claim_Cause</th>\n",
       "      <th>Claim_Report_Type</th>\n",
       "      <th>Vehicle_Class</th>\n",
       "      <th>Vehicle_Size</th>\n",
       "      <th>Vehicle_Model</th>\n",
       "      <th>Outstanding_Balance</th>\n",
       "      <th>Fraudulent_Claim</th>\n",
       "      <th>Claimant__Number</th>\n",
       "    </tr>\n",
       "  </thead>\n",
       "  <tbody>\n",
       "    <tr>\n",
       "      <th>0</th>\n",
       "      <td>KS</td>\n",
       "      <td>6.355343</td>\n",
       "      <td>3. Bachelor</td>\n",
       "      <td>12/01/2018</td>\n",
       "      <td>Employed</td>\n",
       "      <td>F</td>\n",
       "      <td>4. Upper-Middle</td>\n",
       "      <td>Suburban</td>\n",
       "      <td>Married</td>\n",
       "      <td>113</td>\n",
       "      <td>...</td>\n",
       "      <td>32</td>\n",
       "      <td>2. 6 Months</td>\n",
       "      <td>Collision</td>\n",
       "      <td>Agent</td>\n",
       "      <td>Two-Door Car</td>\n",
       "      <td>Midsize</td>\n",
       "      <td>Toyota</td>\n",
       "      <td>25781.0</td>\n",
       "      <td>N</td>\n",
       "      <td>1001</td>\n",
       "    </tr>\n",
       "    <tr>\n",
       "      <th>1</th>\n",
       "      <td>NE</td>\n",
       "      <td>6.548153</td>\n",
       "      <td>3. Bachelor</td>\n",
       "      <td>12/01/2018</td>\n",
       "      <td>Unemployed</td>\n",
       "      <td>F</td>\n",
       "      <td>1. Poor</td>\n",
       "      <td>Suburban</td>\n",
       "      <td>Single</td>\n",
       "      <td>109</td>\n",
       "      <td>...</td>\n",
       "      <td>13</td>\n",
       "      <td>5. Long-Term Customer</td>\n",
       "      <td>Scratch/Dent</td>\n",
       "      <td>Agent</td>\n",
       "      <td>Four-Door Car</td>\n",
       "      <td>Midsize</td>\n",
       "      <td>Chevrolet</td>\n",
       "      <td>37061.0</td>\n",
       "      <td>N</td>\n",
       "      <td>1002</td>\n",
       "    </tr>\n",
       "    <tr>\n",
       "      <th>2</th>\n",
       "      <td>OK</td>\n",
       "      <td>7.161423</td>\n",
       "      <td>3. Bachelor</td>\n",
       "      <td>12/01/2018</td>\n",
       "      <td>Employed</td>\n",
       "      <td>F</td>\n",
       "      <td>3. Middle</td>\n",
       "      <td>Suburban</td>\n",
       "      <td>Married</td>\n",
       "      <td>126</td>\n",
       "      <td>...</td>\n",
       "      <td>18</td>\n",
       "      <td>5. Long-Term Customer</td>\n",
       "      <td>Collision</td>\n",
       "      <td>Agent</td>\n",
       "      <td>Two-Door Car</td>\n",
       "      <td>Midsize</td>\n",
       "      <td>Chevrolet</td>\n",
       "      <td>17236.0</td>\n",
       "      <td>N</td>\n",
       "      <td>1003</td>\n",
       "    </tr>\n",
       "    <tr>\n",
       "      <th>3</th>\n",
       "      <td>MO</td>\n",
       "      <td>6.639335</td>\n",
       "      <td>3. Bachelor</td>\n",
       "      <td>12/01/2018</td>\n",
       "      <td>Unemployed</td>\n",
       "      <td>M</td>\n",
       "      <td>1. Poor</td>\n",
       "      <td>Suburban</td>\n",
       "      <td>Married</td>\n",
       "      <td>101</td>\n",
       "      <td>...</td>\n",
       "      <td>18</td>\n",
       "      <td>5. Long-Term Customer</td>\n",
       "      <td>Collision</td>\n",
       "      <td>Call Center</td>\n",
       "      <td>SUV</td>\n",
       "      <td>Midsize</td>\n",
       "      <td>Honda</td>\n",
       "      <td>30270.0</td>\n",
       "      <td>N</td>\n",
       "      <td>1004</td>\n",
       "    </tr>\n",
       "    <tr>\n",
       "      <th>4</th>\n",
       "      <td>KS</td>\n",
       "      <td>5.639668</td>\n",
       "      <td>3. Bachelor</td>\n",
       "      <td>12/01/2018</td>\n",
       "      <td>Employed</td>\n",
       "      <td>M</td>\n",
       "      <td>3. Middle</td>\n",
       "      <td>Rural</td>\n",
       "      <td>Single</td>\n",
       "      <td>137</td>\n",
       "      <td>...</td>\n",
       "      <td>52</td>\n",
       "      <td>5. Long-Term Customer</td>\n",
       "      <td>Collision</td>\n",
       "      <td>Agent</td>\n",
       "      <td>Four-Door Car</td>\n",
       "      <td>Midsize</td>\n",
       "      <td>Ford</td>\n",
       "      <td>16263.0</td>\n",
       "      <td>N</td>\n",
       "      <td>1005</td>\n",
       "    </tr>\n",
       "  </tbody>\n",
       "</table>\n",
       "<p>5 rows × 21 columns</p>\n",
       "</div>"
      ],
      "text/plain": [
       "  State_Code  Claim_Amount    Education  Claim_Date Employment_Status Gender  \\\n",
       "0         KS      6.355343  3. Bachelor  12/01/2018          Employed      F   \n",
       "1         NE      6.548153  3. Bachelor  12/01/2018        Unemployed      F   \n",
       "2         OK      7.161423  3. Bachelor  12/01/2018          Employed      F   \n",
       "3         MO      6.639335  3. Bachelor  12/01/2018        Unemployed      M   \n",
       "4         KS      5.639668  3. Bachelor  12/01/2018          Employed      M   \n",
       "\n",
       "            Income  Location Marital_Status  Monthly_Premium       ...         \\\n",
       "0  4. Upper-Middle  Suburban        Married              113       ...          \n",
       "1          1. Poor  Suburban         Single              109       ...          \n",
       "2        3. Middle  Suburban        Married              126       ...          \n",
       "3          1. Poor  Suburban        Married              101       ...          \n",
       "4        3. Middle     Rural         Single              137       ...          \n",
       "\n",
       "   Months_Since_Last_Claim  Months_Since_Policy_Inception   Claim_Cause  \\\n",
       "0                       32                    2. 6 Months     Collision   \n",
       "1                       13          5. Long-Term Customer  Scratch/Dent   \n",
       "2                       18          5. Long-Term Customer     Collision   \n",
       "3                       18          5. Long-Term Customer     Collision   \n",
       "4                       52          5. Long-Term Customer     Collision   \n",
       "\n",
       "  Claim_Report_Type  Vehicle_Class Vehicle_Size Vehicle_Model  \\\n",
       "0             Agent   Two-Door Car      Midsize        Toyota   \n",
       "1             Agent  Four-Door Car      Midsize     Chevrolet   \n",
       "2             Agent   Two-Door Car      Midsize     Chevrolet   \n",
       "3       Call Center            SUV      Midsize         Honda   \n",
       "4             Agent  Four-Door Car      Midsize          Ford   \n",
       "\n",
       "  Outstanding_Balance  Fraudulent_Claim Claimant__Number  \n",
       "0             25781.0                 N             1001  \n",
       "1             37061.0                 N             1002  \n",
       "2             17236.0                 N             1003  \n",
       "3             30270.0                 N             1004  \n",
       "4             16263.0                 N             1005  \n",
       "\n",
       "[5 rows x 21 columns]"
      ]
     },
     "execution_count": 20,
     "metadata": {},
     "output_type": "execute_result"
    }
   ],
   "source": [
    "fraud=transform_vars(fraud)\n",
    "fraud_test=transform_vars(fraud_test)\n",
    "fraud[:5]"
   ]
  },
  {
   "cell_type": "markdown",
   "metadata": {},
   "source": [
    "This graph shows the distribution of income after it is binned to check the skewness."
   ]
  },
  {
   "cell_type": "code",
   "execution_count": 21,
   "metadata": {},
   "outputs": [
    {
     "data": {
      "image/png": "[encoded data removed]",
      "text/plain": [
       "<Figure size 1008x576 with 1 Axes>"
      ]
     },
     "metadata": {},
     "output_type": "display_data"
    }
   ],
   "source": [
    "ax = fraud['Income'].value_counts().plot(kind = 'bar',\n",
    "                                        figsize = (14,8),\n",
    "                                        title=\"Income Group Frequencies\")\n",
    "ax.set_xlabel(\"Income Groups\")\n",
    "ax.set_ylabel(\"Frequency\")\n",
    "plt.show()"
   ]
  },
  {
   "cell_type": "markdown",
   "metadata": {},
   "source": [
    "Encoding the variables by creating dummy variables for running regressions. For the two binary variables, we are hard coding them so that we can control what their values will be."
   ]
  },
  {
   "cell_type": "code",
   "execution_count": 22,
   "metadata": {},
   "outputs": [
    {
     "data": {
      "text/html": [
       "<div>\n",
       "<style scoped>\n",
       "    .dataframe tbody tr th:only-of-type {\n",
       "        vertical-align: middle;\n",
       "    }\n",
       "\n",
       "    .dataframe tbody tr th {\n",
       "        vertical-align: top;\n",
       "    }\n",
       "\n",
       "    .dataframe thead th {\n",
       "        text-align: right;\n",
       "    }\n",
       "</style>\n",
       "<table border=\"1\" class=\"dataframe\">\n",
       "  <thead>\n",
       "    <tr style=\"text-align: right;\">\n",
       "      <th></th>\n",
       "      <th>Claim_Amount</th>\n",
       "      <th>Claim_Date</th>\n",
       "      <th>Gender</th>\n",
       "      <th>Monthly_Premium</th>\n",
       "      <th>Annual_Premium</th>\n",
       "      <th>Months_Since_Last_Claim</th>\n",
       "      <th>Outstanding_Balance</th>\n",
       "      <th>Fraudulent_Claim</th>\n",
       "      <th>Claimant__Number</th>\n",
       "      <th>State_IA</th>\n",
       "      <th>...</th>\n",
       "      <th>Class_SUV</th>\n",
       "      <th>Class_Sports Car</th>\n",
       "      <th>Class_Two-Door Car</th>\n",
       "      <th>Size_Compact</th>\n",
       "      <th>Size_Luxury</th>\n",
       "      <th>Size_Midsize</th>\n",
       "      <th>Model_Chevrolet</th>\n",
       "      <th>Model_Ford</th>\n",
       "      <th>Model_Honda</th>\n",
       "      <th>Model_Toyota</th>\n",
       "    </tr>\n",
       "  </thead>\n",
       "  <tbody>\n",
       "    <tr>\n",
       "      <th>4884</th>\n",
       "      <td>7.372995</td>\n",
       "      <td>1</td>\n",
       "      <td>1</td>\n",
       "      <td>129</td>\n",
       "      <td>1548</td>\n",
       "      <td>1</td>\n",
       "      <td>2142.0</td>\n",
       "      <td>0</td>\n",
       "      <td>5885</td>\n",
       "      <td>1</td>\n",
       "      <td>...</td>\n",
       "      <td>1</td>\n",
       "      <td>0</td>\n",
       "      <td>0</td>\n",
       "      <td>0</td>\n",
       "      <td>0</td>\n",
       "      <td>1</td>\n",
       "      <td>1</td>\n",
       "      <td>0</td>\n",
       "      <td>0</td>\n",
       "      <td>0</td>\n",
       "    </tr>\n",
       "    <tr>\n",
       "      <th>541</th>\n",
       "      <td>8.184530</td>\n",
       "      <td>12</td>\n",
       "      <td>0</td>\n",
       "      <td>69</td>\n",
       "      <td>828</td>\n",
       "      <td>24</td>\n",
       "      <td>2626.0</td>\n",
       "      <td>0</td>\n",
       "      <td>1542</td>\n",
       "      <td>1</td>\n",
       "      <td>...</td>\n",
       "      <td>0</td>\n",
       "      <td>0</td>\n",
       "      <td>0</td>\n",
       "      <td>0</td>\n",
       "      <td>0</td>\n",
       "      <td>1</td>\n",
       "      <td>0</td>\n",
       "      <td>0</td>\n",
       "      <td>0</td>\n",
       "      <td>1</td>\n",
       "    </tr>\n",
       "    <tr>\n",
       "      <th>2667</th>\n",
       "      <td>6.180311</td>\n",
       "      <td>12</td>\n",
       "      <td>1</td>\n",
       "      <td>80</td>\n",
       "      <td>960</td>\n",
       "      <td>4</td>\n",
       "      <td>47061.0</td>\n",
       "      <td>0</td>\n",
       "      <td>3668</td>\n",
       "      <td>0</td>\n",
       "      <td>...</td>\n",
       "      <td>0</td>\n",
       "      <td>0</td>\n",
       "      <td>0</td>\n",
       "      <td>0</td>\n",
       "      <td>0</td>\n",
       "      <td>1</td>\n",
       "      <td>0</td>\n",
       "      <td>0</td>\n",
       "      <td>1</td>\n",
       "      <td>0</td>\n",
       "    </tr>\n",
       "    <tr>\n",
       "      <th>3933</th>\n",
       "      <td>6.146342</td>\n",
       "      <td>12</td>\n",
       "      <td>1</td>\n",
       "      <td>71</td>\n",
       "      <td>852</td>\n",
       "      <td>28</td>\n",
       "      <td>42584.0</td>\n",
       "      <td>0</td>\n",
       "      <td>4934</td>\n",
       "      <td>0</td>\n",
       "      <td>...</td>\n",
       "      <td>0</td>\n",
       "      <td>0</td>\n",
       "      <td>1</td>\n",
       "      <td>0</td>\n",
       "      <td>0</td>\n",
       "      <td>1</td>\n",
       "      <td>0</td>\n",
       "      <td>0</td>\n",
       "      <td>0</td>\n",
       "      <td>1</td>\n",
       "    </tr>\n",
       "    <tr>\n",
       "      <th>3067</th>\n",
       "      <td>7.559303</td>\n",
       "      <td>12</td>\n",
       "      <td>0</td>\n",
       "      <td>128</td>\n",
       "      <td>1536</td>\n",
       "      <td>4</td>\n",
       "      <td>22723.0</td>\n",
       "      <td>0</td>\n",
       "      <td>4068</td>\n",
       "      <td>0</td>\n",
       "      <td>...</td>\n",
       "      <td>0</td>\n",
       "      <td>0</td>\n",
       "      <td>0</td>\n",
       "      <td>1</td>\n",
       "      <td>0</td>\n",
       "      <td>0</td>\n",
       "      <td>0</td>\n",
       "      <td>0</td>\n",
       "      <td>0</td>\n",
       "      <td>1</td>\n",
       "    </tr>\n",
       "  </tbody>\n",
       "</table>\n",
       "<p>5 rows × 62 columns</p>\n",
       "</div>"
      ],
      "text/plain": [
       "      Claim_Amount  Claim_Date  Gender  Monthly_Premium  Annual_Premium  \\\n",
       "4884      7.372995           1       1              129            1548   \n",
       "541       8.184530          12       0               69             828   \n",
       "2667      6.180311          12       1               80             960   \n",
       "3933      6.146342          12       1               71             852   \n",
       "3067      7.559303          12       0              128            1536   \n",
       "\n",
       "      Months_Since_Last_Claim  Outstanding_Balance  Fraudulent_Claim  \\\n",
       "4884                        1               2142.0                 0   \n",
       "541                        24               2626.0                 0   \n",
       "2667                        4              47061.0                 0   \n",
       "3933                       28              42584.0                 0   \n",
       "3067                        4              22723.0                 0   \n",
       "\n",
       "      Claimant__Number  State_IA      ...       Class_SUV  Class_Sports Car  \\\n",
       "4884              5885         1      ...               1                 0   \n",
       "541               1542         1      ...               0                 0   \n",
       "2667              3668         0      ...               0                 0   \n",
       "3933              4934         0      ...               0                 0   \n",
       "3067              4068         0      ...               0                 0   \n",
       "\n",
       "      Class_Two-Door Car  Size_Compact  Size_Luxury  Size_Midsize  \\\n",
       "4884                   0             0            0             1   \n",
       "541                    0             0            0             1   \n",
       "2667                   0             0            0             1   \n",
       "3933                   1             0            0             1   \n",
       "3067                   0             1            0             0   \n",
       "\n",
       "      Model_Chevrolet  Model_Ford  Model_Honda  Model_Toyota  \n",
       "4884                1           0            0             0  \n",
       "541                 0           0            0             1  \n",
       "2667                0           0            1             0  \n",
       "3933                0           0            0             1  \n",
       "3067                0           0            0             1  \n",
       "\n",
       "[5 rows x 62 columns]"
      ]
     },
     "execution_count": 22,
     "metadata": {},
     "output_type": "execute_result"
    }
   ],
   "source": [
    "encode_vars={\"Fraudulent_Claim\": {\"Y\": 1, \"N\": 0}, \"Gender\":{\"M\": 0, \"F\": 1}}\n",
    "fraud.replace(encode_vars, inplace=True)\n",
    "fraud_test.replace(encode_vars, inplace=True)\n",
    "\n",
    "fraud.Claim_Date=fraud.Claim_Date.str[:2]\n",
    "fraud_test.Claim_Date=fraud_test.Claim_Date.str[:2]\n",
    "\n",
    "fraud.Claim_Date=pd.to_numeric(fraud.Claim_Date)\n",
    "fraud_test.Claim_Date=pd.to_numeric(fraud_test.Claim_Date)\n",
    "\n",
    "fraud_dummies=pd.get_dummies(fraud, columns=[\"State_Code\",\"Education\",\"Employment_Status\",\"Income\",\"Location\",\"Marital_Status\",\n",
    "                             \"Months_Since_Policy_Inception\",\"Claim_Cause\",\"Claim_Report_Type\",\"Vehicle_Class\",\n",
    "                             \"Vehicle_Size\",\"Vehicle_Model\"], prefix=[\"State\",\"Edu\",\"Employment\",\"Income\", \"Location\",\n",
    "                                                                     \"Marital\",\"Inception\",\"Cause\",\"Reported\",\"Class\",\n",
    "                                                                     \"Size\",\"Model\"])\n",
    "fraud_test_dummies=pd.get_dummies(fraud_test, columns=[\"State_Code\",\"Education\",\"Employment_Status\",\"Income\",\"Location\",\"Marital_Status\",\n",
    "                             \"Months_Since_Policy_Inception\",\"Claim_Cause\",\"Claim_Report_Type\",\"Vehicle_Class\",\n",
    "                             \"Vehicle_Size\",\"Vehicle_Model\"], prefix=[\"State\",\"Edu\",\"Employment\",\"Income\", \"Location\",\n",
    "                                                                     \"Marital\",\"Inception\",\"Cause\",\"Reported\",\"Class\",\n",
    "                                                                     \"Size\",\"Model\"])\n",
    "fraud_test_dummies[\"Cause_Fire\"]=0\n",
    "fraud_test_dummies=fraud_test_dummies[['Claim_Amount', 'Claim_Date', 'Gender', 'Monthly_Premium',\n",
    "       'Annual_Premium', 'Months_Since_Last_Claim', 'Outstanding_Balance', 'Fraudulent_Claim', 'Claimant__Number',\n",
    "       'State_IA', 'State_KS', 'State_MO', 'State_NE', 'State_OK',\n",
    "       'Edu_1. High School or Below', 'Edu_2. College', 'Edu_3. Bachelor',\n",
    "       'Edu_4. Master', 'Edu_Doctor', 'Employment_Disabled',\n",
    "       'Employment_Employed', 'Employment_Medical Leave',\n",
    "       'Employment_Retired', 'Employment_Unemployed', 'Income_1. Poor',\n",
    "       'Income_2. Lower-Middle', 'Income_3. Middle',\n",
    "       'Income_4. Upper-Middle', 'Income_5. Upper', 'Location_Rural',\n",
    "       'Location_Suburban', 'Location_Urban', 'Marital_Divorced',\n",
    "       'Marital_Married', 'Marital_Single', 'Inception_1. New Customer',\n",
    "       'Inception_2. 6 Months', 'Inception_3. 1 year',\n",
    "       'Inception_4. 2 years', 'Inception_5. Long-Term Customer',\n",
    "       'Cause_Collision', 'Cause_Fire', 'Cause_Hail', 'Cause_Other',\n",
    "       'Cause_Scratch/Dent', 'Reported_Agent', 'Reported_Branch',\n",
    "       'Reported_Call Center', 'Reported_Web', 'Class_Four-Door Car',\n",
    "       'Class_Luxury Car', 'Class_Luxury SUV', 'Class_SUV',\n",
    "       'Class_Sports Car', 'Class_Two-Door Car', 'Size_Compact',\n",
    "       'Size_Luxury', 'Size_Midsize', 'Model_Chevrolet', 'Model_Ford',\n",
    "       'Model_Honda', 'Model_Toyota']]\n",
    "fraud_dummies.sample(5)"
   ]
  },
  {
   "cell_type": "markdown",
   "metadata": {},
   "source": [
    "Encoding variables so that they are all numeric for running decision trees and random trees."
   ]
  },
  {
   "cell_type": "code",
   "execution_count": 23,
   "metadata": {},
   "outputs": [
    {
     "data": {
      "text/html": [
       "<div>\n",
       "<style scoped>\n",
       "    .dataframe tbody tr th:only-of-type {\n",
       "        vertical-align: middle;\n",
       "    }\n",
       "\n",
       "    .dataframe tbody tr th {\n",
       "        vertical-align: top;\n",
       "    }\n",
       "\n",
       "    .dataframe thead th {\n",
       "        text-align: right;\n",
       "    }\n",
       "</style>\n",
       "<table border=\"1\" class=\"dataframe\">\n",
       "  <thead>\n",
       "    <tr style=\"text-align: right;\">\n",
       "      <th></th>\n",
       "      <th>State_Code</th>\n",
       "      <th>Claim_Amount</th>\n",
       "      <th>Education</th>\n",
       "      <th>Claim_Date</th>\n",
       "      <th>Employment_Status</th>\n",
       "      <th>Gender</th>\n",
       "      <th>Income</th>\n",
       "      <th>Location</th>\n",
       "      <th>Marital_Status</th>\n",
       "      <th>Monthly_Premium</th>\n",
       "      <th>...</th>\n",
       "      <th>Months_Since_Last_Claim</th>\n",
       "      <th>Months_Since_Policy_Inception</th>\n",
       "      <th>Claim_Cause</th>\n",
       "      <th>Claim_Report_Type</th>\n",
       "      <th>Vehicle_Class</th>\n",
       "      <th>Vehicle_Size</th>\n",
       "      <th>Vehicle_Model</th>\n",
       "      <th>Outstanding_Balance</th>\n",
       "      <th>Fraudulent_Claim</th>\n",
       "      <th>Claimant__Number</th>\n",
       "    </tr>\n",
       "  </thead>\n",
       "  <tbody>\n",
       "    <tr>\n",
       "      <th>2378</th>\n",
       "      <td>0</td>\n",
       "      <td>6.196857</td>\n",
       "      <td>2</td>\n",
       "      <td>12</td>\n",
       "      <td>4</td>\n",
       "      <td>1</td>\n",
       "      <td>0</td>\n",
       "      <td>1</td>\n",
       "      <td>2</td>\n",
       "      <td>90</td>\n",
       "      <td>...</td>\n",
       "      <td>23</td>\n",
       "      <td>4</td>\n",
       "      <td>0</td>\n",
       "      <td>1</td>\n",
       "      <td>0</td>\n",
       "      <td>2</td>\n",
       "      <td>3</td>\n",
       "      <td>12841.0</td>\n",
       "      <td>0</td>\n",
       "      <td>3379</td>\n",
       "    </tr>\n",
       "    <tr>\n",
       "      <th>2561</th>\n",
       "      <td>4</td>\n",
       "      <td>6.717596</td>\n",
       "      <td>1</td>\n",
       "      <td>12</td>\n",
       "      <td>1</td>\n",
       "      <td>0</td>\n",
       "      <td>4</td>\n",
       "      <td>1</td>\n",
       "      <td>1</td>\n",
       "      <td>61</td>\n",
       "      <td>...</td>\n",
       "      <td>6</td>\n",
       "      <td>4</td>\n",
       "      <td>4</td>\n",
       "      <td>3</td>\n",
       "      <td>0</td>\n",
       "      <td>2</td>\n",
       "      <td>3</td>\n",
       "      <td>22084.0</td>\n",
       "      <td>0</td>\n",
       "      <td>3562</td>\n",
       "    </tr>\n",
       "    <tr>\n",
       "      <th>926</th>\n",
       "      <td>0</td>\n",
       "      <td>6.919234</td>\n",
       "      <td>1</td>\n",
       "      <td>12</td>\n",
       "      <td>1</td>\n",
       "      <td>1</td>\n",
       "      <td>3</td>\n",
       "      <td>1</td>\n",
       "      <td>0</td>\n",
       "      <td>139</td>\n",
       "      <td>...</td>\n",
       "      <td>15</td>\n",
       "      <td>3</td>\n",
       "      <td>2</td>\n",
       "      <td>0</td>\n",
       "      <td>1</td>\n",
       "      <td>1</td>\n",
       "      <td>3</td>\n",
       "      <td>26263.0</td>\n",
       "      <td>0</td>\n",
       "      <td>1927</td>\n",
       "    </tr>\n",
       "    <tr>\n",
       "      <th>4017</th>\n",
       "      <td>0</td>\n",
       "      <td>6.725232</td>\n",
       "      <td>2</td>\n",
       "      <td>1</td>\n",
       "      <td>4</td>\n",
       "      <td>1</td>\n",
       "      <td>0</td>\n",
       "      <td>1</td>\n",
       "      <td>2</td>\n",
       "      <td>110</td>\n",
       "      <td>...</td>\n",
       "      <td>3</td>\n",
       "      <td>4</td>\n",
       "      <td>2</td>\n",
       "      <td>1</td>\n",
       "      <td>3</td>\n",
       "      <td>2</td>\n",
       "      <td>3</td>\n",
       "      <td>47369.0</td>\n",
       "      <td>0</td>\n",
       "      <td>5018</td>\n",
       "    </tr>\n",
       "    <tr>\n",
       "      <th>4990</th>\n",
       "      <td>0</td>\n",
       "      <td>5.932674</td>\n",
       "      <td>1</td>\n",
       "      <td>1</td>\n",
       "      <td>4</td>\n",
       "      <td>1</td>\n",
       "      <td>0</td>\n",
       "      <td>1</td>\n",
       "      <td>1</td>\n",
       "      <td>84</td>\n",
       "      <td>...</td>\n",
       "      <td>25</td>\n",
       "      <td>3</td>\n",
       "      <td>0</td>\n",
       "      <td>1</td>\n",
       "      <td>3</td>\n",
       "      <td>2</td>\n",
       "      <td>2</td>\n",
       "      <td>22772.0</td>\n",
       "      <td>0</td>\n",
       "      <td>5991</td>\n",
       "    </tr>\n",
       "  </tbody>\n",
       "</table>\n",
       "<p>5 rows × 21 columns</p>\n",
       "</div>"
      ],
      "text/plain": [
       "      State_Code  Claim_Amount  Education  Claim_Date  Employment_Status  \\\n",
       "2378           0      6.196857          2          12                  4   \n",
       "2561           4      6.717596          1          12                  1   \n",
       "926            0      6.919234          1          12                  1   \n",
       "4017           0      6.725232          2           1                  4   \n",
       "4990           0      5.932674          1           1                  4   \n",
       "\n",
       "      Gender  Income  Location  Marital_Status  Monthly_Premium  \\\n",
       "2378       1       0         1               2               90   \n",
       "2561       0       4         1               1               61   \n",
       "926        1       3         1               0              139   \n",
       "4017       1       0         1               2              110   \n",
       "4990       1       0         1               1               84   \n",
       "\n",
       "            ...         Months_Since_Last_Claim  \\\n",
       "2378        ...                              23   \n",
       "2561        ...                               6   \n",
       "926         ...                              15   \n",
       "4017        ...                               3   \n",
       "4990        ...                              25   \n",
       "\n",
       "      Months_Since_Policy_Inception  Claim_Cause  Claim_Report_Type  \\\n",
       "2378                              4            0                  1   \n",
       "2561                              4            4                  3   \n",
       "926                               3            2                  0   \n",
       "4017                              4            2                  1   \n",
       "4990                              3            0                  1   \n",
       "\n",
       "      Vehicle_Class  Vehicle_Size  Vehicle_Model  Outstanding_Balance  \\\n",
       "2378              0             2              3              12841.0   \n",
       "2561              0             2              3              22084.0   \n",
       "926               1             1              3              26263.0   \n",
       "4017              3             2              3              47369.0   \n",
       "4990              3             2              2              22772.0   \n",
       "\n",
       "      Fraudulent_Claim  Claimant__Number  \n",
       "2378                 0              3379  \n",
       "2561                 0              3562  \n",
       "926                  0              1927  \n",
       "4017                 0              5018  \n",
       "4990                 0              5991  \n",
       "\n",
       "[5 rows x 21 columns]"
      ]
     },
     "execution_count": 23,
     "metadata": {},
     "output_type": "execute_result"
    }
   ],
   "source": [
    "from sklearn import preprocessing \n",
    "def encode_features(df_train): \n",
    "    features = [\"State_Code\",\"Education\",\"Employment_Status\",\"Income\",\"Location\",\"Marital_Status\",\n",
    "                             \"Months_Since_Policy_Inception\",\"Claim_Cause\",\"Claim_Report_Type\",\"Vehicle_Class\",\n",
    "                             \"Vehicle_Size\",\"Vehicle_Model\"] \n",
    "    df_combined = pd.concat([df_train[features]]) \n",
    "    for feature in features: \n",
    "        le = preprocessing.LabelEncoder() \n",
    "        le = le.fit(df_combined[feature]) \n",
    "        df_train[feature] = le.transform(df_train[feature]) \n",
    "    return df_train\n",
    "\n",
    "fraud_encoded= encode_features(fraud)\n",
    "fraud_test_encoded=encode_features(fraud_test)\n",
    "fraud_encoded.sample(5)"
   ]
  },
  {
   "cell_type": "markdown",
   "metadata": {},
   "source": [
    "Splitting both encoded datasets into training and testing sets"
   ]
  },
  {
   "cell_type": "code",
   "execution_count": 24,
   "metadata": {},
   "outputs": [],
   "source": [
    "from sklearn.model_selection import train_test_split \n",
    "\n",
    "X_all = fraud_dummies.drop(['Fraudulent_Claim', 'Claimant__Number'], axis=1) \n",
    "y_all = fraud_dummies['Fraudulent_Claim'] \n",
    "\n",
    "X_all2 = fraud_encoded.drop(['Fraudulent_Claim', 'Claimant__Number'], axis=1) \n",
    "y_all2 = fraud_encoded['Fraudulent_Claim'] \n",
    "\n",
    "num_test = 0.30 \n",
    "X_train, X_test, y_train, y_test = train_test_split(X_all, y_all, \n",
    "    test_size=num_test, random_state=23)\n",
    "\n",
    "X_train2, X_test2, y_train2, y_test2 = train_test_split(X_all2, y_all2, \n",
    "    test_size=num_test, random_state=23)"
   ]
  },
  {
   "cell_type": "markdown",
   "metadata": {},
   "source": [
    "Visualizing the distibution of fraudlent claims in the training data. It can be seen that the data is very unbalanced, so resampling is needed."
   ]
  },
  {
   "cell_type": "code",
   "execution_count": 25,
   "metadata": {},
   "outputs": [
    {
     "data": {
      "text/html": [
       "<div>\n",
       "<style scoped>\n",
       "    .dataframe tbody tr th:only-of-type {\n",
       "        vertical-align: middle;\n",
       "    }\n",
       "\n",
       "    .dataframe tbody tr th {\n",
       "        vertical-align: top;\n",
       "    }\n",
       "\n",
       "    .dataframe thead th {\n",
       "        text-align: right;\n",
       "    }\n",
       "</style>\n",
       "<table border=\"1\" class=\"dataframe\">\n",
       "  <thead>\n",
       "    <tr style=\"text-align: right;\">\n",
       "      <th>col_0</th>\n",
       "      <th>count</th>\n",
       "    </tr>\n",
       "    <tr>\n",
       "      <th>Fraudulent_Claim</th>\n",
       "      <th></th>\n",
       "    </tr>\n",
       "  </thead>\n",
       "  <tbody>\n",
       "    <tr>\n",
       "      <th>0</th>\n",
       "      <td>3292</td>\n",
       "    </tr>\n",
       "    <tr>\n",
       "      <th>1</th>\n",
       "      <td>208</td>\n",
       "    </tr>\n",
       "  </tbody>\n",
       "</table>\n",
       "</div>"
      ],
      "text/plain": [
       "col_0             count\n",
       "Fraudulent_Claim       \n",
       "0                  3292\n",
       "1                   208"
      ]
     },
     "execution_count": 25,
     "metadata": {},
     "output_type": "execute_result"
    },
    {
     "data": {
      "image/png": "[encoded data removed]",
      "text/plain": [
       "<Figure size 432x288 with 1 Axes>"
      ]
     },
     "metadata": {},
     "output_type": "display_data"
    }
   ],
   "source": [
    "sns.countplot(x=y_train)\n",
    "counts = pd.crosstab(index=y_train,columns=\"count\")   \n",
    "counts"
   ]
  },
  {
   "cell_type": "markdown",
   "metadata": {},
   "source": [
    "Code to implement undersampling on the both of the train datasets, then checking the distribution to make sure it worked"
   ]
  },
  {
   "cell_type": "code",
   "execution_count": 26,
   "metadata": {},
   "outputs": [],
   "source": [
    "from imblearn.under_sampling import RandomUnderSampler\n",
    "#good seeds: 2018, 50, 300, 400\n",
    "rus = RandomUnderSampler(return_indices=True, random_state=400)\n",
    "X_rus, y_rus, id_rus = rus.fit_sample(X_train, y_train)\n",
    "\n",
    "X_rus2, y_rus2, id_rus2 = rus.fit_sample(X_train2, y_train2)"
   ]
  },
  {
   "cell_type": "code",
   "execution_count": 27,
   "metadata": {},
   "outputs": [
    {
     "data": {
      "text/html": [
       "<div>\n",
       "<style scoped>\n",
       "    .dataframe tbody tr th:only-of-type {\n",
       "        vertical-align: middle;\n",
       "    }\n",
       "\n",
       "    .dataframe tbody tr th {\n",
       "        vertical-align: top;\n",
       "    }\n",
       "\n",
       "    .dataframe thead th {\n",
       "        text-align: right;\n",
       "    }\n",
       "</style>\n",
       "<table border=\"1\" class=\"dataframe\">\n",
       "  <thead>\n",
       "    <tr style=\"text-align: right;\">\n",
       "      <th>col_0</th>\n",
       "      <th>count</th>\n",
       "    </tr>\n",
       "    <tr>\n",
       "      <th>row_0</th>\n",
       "      <th></th>\n",
       "    </tr>\n",
       "  </thead>\n",
       "  <tbody>\n",
       "    <tr>\n",
       "      <th>0</th>\n",
       "      <td>208</td>\n",
       "    </tr>\n",
       "    <tr>\n",
       "      <th>1</th>\n",
       "      <td>208</td>\n",
       "    </tr>\n",
       "  </tbody>\n",
       "</table>\n",
       "</div>"
      ],
      "text/plain": [
       "col_0  count\n",
       "row_0       \n",
       "0        208\n",
       "1        208"
      ]
     },
     "execution_count": 27,
     "metadata": {},
     "output_type": "execute_result"
    },
    {
     "data": {
      "image/png": "[encoded data removed]",
      "text/plain": [
       "<Figure size 432x288 with 1 Axes>"
      ]
     },
     "metadata": {},
     "output_type": "display_data"
    }
   ],
   "source": [
    "sns.countplot(x=y_rus)\n",
    "counts = pd.crosstab(index=y_rus,columns=\"count\")   \n",
    "counts\n",
    "\n",
    "sns.countplot(x=y_rus2)\n",
    "counts2 = pd.crosstab(index=y_rus2,columns=\"count\")   \n",
    "counts2"
   ]
  },
  {
   "cell_type": "markdown",
   "metadata": {},
   "source": [
    "Code to implement SMOTE (Synthetic Minority Over-sampling Technique) oversampling. This technique involves creating synthetic data points by using k nearest neighbors concepts. We then plot the new distibution to make sure the resampling works."
   ]
  },
  {
   "cell_type": "code",
   "execution_count": 28,
   "metadata": {},
   "outputs": [],
   "source": [
    "from imblearn.over_sampling import SMOTE\n",
    "smote = SMOTE(ratio='minority', random_state=400)\n",
    "X_sm, y_sm = smote.fit_sample(X_train, y_train)\n",
    "\n",
    "X_sm2, y_sm2 = smote.fit_sample(X_train2, y_train2)"
   ]
  },
  {
   "cell_type": "code",
   "execution_count": 29,
   "metadata": {},
   "outputs": [
    {
     "data": {
      "text/html": [
       "<div>\n",
       "<style scoped>\n",
       "    .dataframe tbody tr th:only-of-type {\n",
       "        vertical-align: middle;\n",
       "    }\n",
       "\n",
       "    .dataframe tbody tr th {\n",
       "        vertical-align: top;\n",
       "    }\n",
       "\n",
       "    .dataframe thead th {\n",
       "        text-align: right;\n",
       "    }\n",
       "</style>\n",
       "<table border=\"1\" class=\"dataframe\">\n",
       "  <thead>\n",
       "    <tr style=\"text-align: right;\">\n",
       "      <th>col_0</th>\n",
       "      <th>count</th>\n",
       "    </tr>\n",
       "    <tr>\n",
       "      <th>row_0</th>\n",
       "      <th></th>\n",
       "    </tr>\n",
       "  </thead>\n",
       "  <tbody>\n",
       "    <tr>\n",
       "      <th>0</th>\n",
       "      <td>3292</td>\n",
       "    </tr>\n",
       "    <tr>\n",
       "      <th>1</th>\n",
       "      <td>3292</td>\n",
       "    </tr>\n",
       "  </tbody>\n",
       "</table>\n",
       "</div>"
      ],
      "text/plain": [
       "col_0  count\n",
       "row_0       \n",
       "0       3292\n",
       "1       3292"
      ]
     },
     "execution_count": 29,
     "metadata": {},
     "output_type": "execute_result"
    },
    {
     "data": {
      "image/png": "[encoded data removed]",
      "text/plain": [
       "<Figure size 432x288 with 1 Axes>"
      ]
     },
     "metadata": {},
     "output_type": "display_data"
    }
   ],
   "source": [
    "sns.countplot(x=y_sm)\n",
    "counts = pd.crosstab(index=y_sm,columns=\"count\")   \n",
    "counts\n",
    "\n",
    "sns.countplot(x=y_sm)\n",
    "counts = pd.crosstab(index=y_sm,columns=\"count\")   \n",
    "counts"
   ]
  },
  {
   "cell_type": "markdown",
   "metadata": {},
   "source": [
    "Code to run a decision tree using the SMOTE oversampled data"
   ]
  },
  {
   "cell_type": "code",
   "execution_count": 30,
   "metadata": {},
   "outputs": [
    {
     "name": "stdout",
     "output_type": "stream",
     "text": [
      "0.7968021319120586\n"
     ]
    }
   ],
   "source": [
    "from sklearn.tree import DecisionTreeClassifier\n",
    "from sklearn.metrics import accuracy_score\n",
    "\n",
    "# Choose the type of classifier. \n",
    "tree = DecisionTreeClassifier(criterion=\"gini\", max_depth=3)\n",
    "\n",
    "# Fit the best algorithm to the data. \n",
    "tree.fit(X_sm2, y_sm2)\n",
    "\n",
    "predictions = tree.predict(X_test2)\n",
    "print(accuracy_score(y_test2, predictions))\n"
   ]
  },
  {
   "cell_type": "markdown",
   "metadata": {},
   "source": [
    "Code to run a decision tree on the undersampled data"
   ]
  },
  {
   "cell_type": "code",
   "execution_count": 31,
   "metadata": {},
   "outputs": [
    {
     "name": "stdout",
     "output_type": "stream",
     "text": [
      "0.5756162558294471\n"
     ]
    }
   ],
   "source": [
    "# Choose the type of classifier. \n",
    "tree_under = DecisionTreeClassifier(criterion=\"entropy\", max_depth=3)\n",
    "\n",
    "# Fit the best algorithm to the data. \n",
    "tree_under.fit(X_rus2, y_rus2)\n",
    "\n",
    "predictions = tree_under.predict(X_test2)\n",
    "print(accuracy_score(y_test2, predictions))"
   ]
  },
  {
   "cell_type": "markdown",
   "metadata": {},
   "source": [
    "Code to run a logistic regression on the SMOTE oversampled data using recursive feature elimination, which only keeps the most important variables in the model according to how many variables we want to consider in our model."
   ]
  },
  {
   "cell_type": "code",
   "execution_count": 32,
   "metadata": {},
   "outputs": [
    {
     "name": "stderr",
     "output_type": "stream",
     "text": [
      "C:\\Users\\student\\Anaconda3\\lib\\site-packages\\sklearn\\linear_model\\logistic.py:433: FutureWarning:\n",
      "\n",
      "Default solver will be changed to 'lbfgs' in 0.22. Specify a solver to silence this warning.\n",
      "\n",
      "C:\\Users\\student\\Anaconda3\\lib\\site-packages\\sklearn\\linear_model\\logistic.py:433: FutureWarning:\n",
      "\n",
      "Default solver will be changed to 'lbfgs' in 0.22. Specify a solver to silence this warning.\n",
      "\n",
      "C:\\Users\\student\\Anaconda3\\lib\\site-packages\\sklearn\\linear_model\\logistic.py:433: FutureWarning:\n",
      "\n",
      "Default solver will be changed to 'lbfgs' in 0.22. Specify a solver to silence this warning.\n",
      "\n",
      "C:\\Users\\student\\Anaconda3\\lib\\site-packages\\sklearn\\linear_model\\logistic.py:433: FutureWarning:\n",
      "\n",
      "Default solver will be changed to 'lbfgs' in 0.22. Specify a solver to silence this warning.\n",
      "\n",
      "C:\\Users\\student\\Anaconda3\\lib\\site-packages\\sklearn\\linear_model\\logistic.py:433: FutureWarning:\n",
      "\n",
      "Default solver will be changed to 'lbfgs' in 0.22. Specify a solver to silence this warning.\n",
      "\n",
      "C:\\Users\\student\\Anaconda3\\lib\\site-packages\\sklearn\\linear_model\\logistic.py:433: FutureWarning:\n",
      "\n",
      "Default solver will be changed to 'lbfgs' in 0.22. Specify a solver to silence this warning.\n",
      "\n",
      "C:\\Users\\student\\Anaconda3\\lib\\site-packages\\sklearn\\linear_model\\logistic.py:433: FutureWarning:\n",
      "\n",
      "Default solver will be changed to 'lbfgs' in 0.22. Specify a solver to silence this warning.\n",
      "\n",
      "C:\\Users\\student\\Anaconda3\\lib\\site-packages\\sklearn\\linear_model\\logistic.py:433: FutureWarning:\n",
      "\n",
      "Default solver will be changed to 'lbfgs' in 0.22. Specify a solver to silence this warning.\n",
      "\n",
      "C:\\Users\\student\\Anaconda3\\lib\\site-packages\\sklearn\\linear_model\\logistic.py:433: FutureWarning:\n",
      "\n",
      "Default solver will be changed to 'lbfgs' in 0.22. Specify a solver to silence this warning.\n",
      "\n",
      "C:\\Users\\student\\Anaconda3\\lib\\site-packages\\sklearn\\linear_model\\logistic.py:433: FutureWarning:\n",
      "\n",
      "Default solver will be changed to 'lbfgs' in 0.22. Specify a solver to silence this warning.\n",
      "\n",
      "C:\\Users\\student\\Anaconda3\\lib\\site-packages\\sklearn\\linear_model\\logistic.py:433: FutureWarning:\n",
      "\n",
      "Default solver will be changed to 'lbfgs' in 0.22. Specify a solver to silence this warning.\n",
      "\n",
      "C:\\Users\\student\\Anaconda3\\lib\\site-packages\\sklearn\\linear_model\\logistic.py:433: FutureWarning:\n",
      "\n",
      "Default solver will be changed to 'lbfgs' in 0.22. Specify a solver to silence this warning.\n",
      "\n",
      "C:\\Users\\student\\Anaconda3\\lib\\site-packages\\sklearn\\linear_model\\logistic.py:433: FutureWarning:\n",
      "\n",
      "Default solver will be changed to 'lbfgs' in 0.22. Specify a solver to silence this warning.\n",
      "\n",
      "C:\\Users\\student\\Anaconda3\\lib\\site-packages\\sklearn\\linear_model\\logistic.py:433: FutureWarning:\n",
      "\n",
      "Default solver will be changed to 'lbfgs' in 0.22. Specify a solver to silence this warning.\n",
      "\n",
      "C:\\Users\\student\\Anaconda3\\lib\\site-packages\\sklearn\\linear_model\\logistic.py:433: FutureWarning:\n",
      "\n",
      "Default solver will be changed to 'lbfgs' in 0.22. Specify a solver to silence this warning.\n",
      "\n",
      "C:\\Users\\student\\Anaconda3\\lib\\site-packages\\sklearn\\linear_model\\logistic.py:433: FutureWarning:\n",
      "\n",
      "Default solver will be changed to 'lbfgs' in 0.22. Specify a solver to silence this warning.\n",
      "\n",
      "C:\\Users\\student\\Anaconda3\\lib\\site-packages\\sklearn\\linear_model\\logistic.py:433: FutureWarning:\n",
      "\n",
      "Default solver will be changed to 'lbfgs' in 0.22. Specify a solver to silence this warning.\n",
      "\n",
      "C:\\Users\\student\\Anaconda3\\lib\\site-packages\\sklearn\\linear_model\\logistic.py:433: FutureWarning:\n",
      "\n",
      "Default solver will be changed to 'lbfgs' in 0.22. Specify a solver to silence this warning.\n",
      "\n",
      "C:\\Users\\student\\Anaconda3\\lib\\site-packages\\sklearn\\linear_model\\logistic.py:433: FutureWarning:\n",
      "\n",
      "Default solver will be changed to 'lbfgs' in 0.22. Specify a solver to silence this warning.\n",
      "\n",
      "C:\\Users\\student\\Anaconda3\\lib\\site-packages\\sklearn\\linear_model\\logistic.py:433: FutureWarning:\n",
      "\n",
      "Default solver will be changed to 'lbfgs' in 0.22. Specify a solver to silence this warning.\n",
      "\n",
      "C:\\Users\\student\\Anaconda3\\lib\\site-packages\\sklearn\\linear_model\\logistic.py:433: FutureWarning:\n",
      "\n",
      "Default solver will be changed to 'lbfgs' in 0.22. Specify a solver to silence this warning.\n",
      "\n",
      "C:\\Users\\student\\Anaconda3\\lib\\site-packages\\sklearn\\linear_model\\logistic.py:433: FutureWarning:\n",
      "\n",
      "Default solver will be changed to 'lbfgs' in 0.22. Specify a solver to silence this warning.\n",
      "\n",
      "C:\\Users\\student\\Anaconda3\\lib\\site-packages\\sklearn\\linear_model\\logistic.py:433: FutureWarning:\n",
      "\n",
      "Default solver will be changed to 'lbfgs' in 0.22. Specify a solver to silence this warning.\n",
      "\n",
      "C:\\Users\\student\\Anaconda3\\lib\\site-packages\\sklearn\\linear_model\\logistic.py:433: FutureWarning:\n",
      "\n",
      "Default solver will be changed to 'lbfgs' in 0.22. Specify a solver to silence this warning.\n",
      "\n",
      "C:\\Users\\student\\Anaconda3\\lib\\site-packages\\sklearn\\linear_model\\logistic.py:433: FutureWarning:\n",
      "\n",
      "Default solver will be changed to 'lbfgs' in 0.22. Specify a solver to silence this warning.\n",
      "\n",
      "C:\\Users\\student\\Anaconda3\\lib\\site-packages\\sklearn\\linear_model\\logistic.py:433: FutureWarning:\n",
      "\n",
      "Default solver will be changed to 'lbfgs' in 0.22. Specify a solver to silence this warning.\n",
      "\n",
      "C:\\Users\\student\\Anaconda3\\lib\\site-packages\\sklearn\\linear_model\\logistic.py:433: FutureWarning:\n",
      "\n",
      "Default solver will be changed to 'lbfgs' in 0.22. Specify a solver to silence this warning.\n",
      "\n",
      "C:\\Users\\student\\Anaconda3\\lib\\site-packages\\sklearn\\linear_model\\logistic.py:433: FutureWarning:\n",
      "\n",
      "Default solver will be changed to 'lbfgs' in 0.22. Specify a solver to silence this warning.\n",
      "\n",
      "C:\\Users\\student\\Anaconda3\\lib\\site-packages\\sklearn\\linear_model\\logistic.py:433: FutureWarning:\n",
      "\n",
      "Default solver will be changed to 'lbfgs' in 0.22. Specify a solver to silence this warning.\n",
      "\n",
      "C:\\Users\\student\\Anaconda3\\lib\\site-packages\\sklearn\\linear_model\\logistic.py:433: FutureWarning:\n",
      "\n",
      "Default solver will be changed to 'lbfgs' in 0.22. Specify a solver to silence this warning.\n",
      "\n",
      "C:\\Users\\student\\Anaconda3\\lib\\site-packages\\sklearn\\linear_model\\logistic.py:433: FutureWarning:\n",
      "\n",
      "Default solver will be changed to 'lbfgs' in 0.22. Specify a solver to silence this warning.\n",
      "\n",
      "C:\\Users\\student\\Anaconda3\\lib\\site-packages\\sklearn\\linear_model\\logistic.py:433: FutureWarning:\n",
      "\n",
      "Default solver will be changed to 'lbfgs' in 0.22. Specify a solver to silence this warning.\n",
      "\n",
      "C:\\Users\\student\\Anaconda3\\lib\\site-packages\\sklearn\\linear_model\\logistic.py:433: FutureWarning:\n",
      "\n",
      "Default solver will be changed to 'lbfgs' in 0.22. Specify a solver to silence this warning.\n",
      "\n",
      "C:\\Users\\student\\Anaconda3\\lib\\site-packages\\sklearn\\linear_model\\logistic.py:433: FutureWarning:\n",
      "\n",
      "Default solver will be changed to 'lbfgs' in 0.22. Specify a solver to silence this warning.\n",
      "\n",
      "C:\\Users\\student\\Anaconda3\\lib\\site-packages\\sklearn\\linear_model\\logistic.py:433: FutureWarning:\n",
      "\n",
      "Default solver will be changed to 'lbfgs' in 0.22. Specify a solver to silence this warning.\n",
      "\n",
      "C:\\Users\\student\\Anaconda3\\lib\\site-packages\\sklearn\\linear_model\\logistic.py:433: FutureWarning:\n",
      "\n",
      "Default solver will be changed to 'lbfgs' in 0.22. Specify a solver to silence this warning.\n",
      "\n",
      "C:\\Users\\student\\Anaconda3\\lib\\site-packages\\sklearn\\linear_model\\logistic.py:433: FutureWarning:\n",
      "\n",
      "Default solver will be changed to 'lbfgs' in 0.22. Specify a solver to silence this warning.\n",
      "\n",
      "C:\\Users\\student\\Anaconda3\\lib\\site-packages\\sklearn\\linear_model\\logistic.py:433: FutureWarning:\n",
      "\n",
      "Default solver will be changed to 'lbfgs' in 0.22. Specify a solver to silence this warning.\n",
      "\n",
      "C:\\Users\\student\\Anaconda3\\lib\\site-packages\\sklearn\\linear_model\\logistic.py:433: FutureWarning:\n",
      "\n",
      "Default solver will be changed to 'lbfgs' in 0.22. Specify a solver to silence this warning.\n",
      "\n",
      "C:\\Users\\student\\Anaconda3\\lib\\site-packages\\sklearn\\linear_model\\logistic.py:433: FutureWarning:\n",
      "\n",
      "Default solver will be changed to 'lbfgs' in 0.22. Specify a solver to silence this warning.\n",
      "\n",
      "C:\\Users\\student\\Anaconda3\\lib\\site-packages\\sklearn\\linear_model\\logistic.py:433: FutureWarning:\n",
      "\n",
      "Default solver will be changed to 'lbfgs' in 0.22. Specify a solver to silence this warning.\n",
      "\n",
      "C:\\Users\\student\\Anaconda3\\lib\\site-packages\\sklearn\\linear_model\\logistic.py:433: FutureWarning:\n",
      "\n",
      "Default solver will be changed to 'lbfgs' in 0.22. Specify a solver to silence this warning.\n",
      "\n",
      "C:\\Users\\student\\Anaconda3\\lib\\site-packages\\sklearn\\linear_model\\logistic.py:433: FutureWarning:\n",
      "\n",
      "Default solver will be changed to 'lbfgs' in 0.22. Specify a solver to silence this warning.\n",
      "\n"
     ]
    },
    {
     "name": "stderr",
     "output_type": "stream",
     "text": [
      "C:\\Users\\student\\Anaconda3\\lib\\site-packages\\sklearn\\linear_model\\logistic.py:433: FutureWarning:\n",
      "\n",
      "Default solver will be changed to 'lbfgs' in 0.22. Specify a solver to silence this warning.\n",
      "\n",
      "C:\\Users\\student\\Anaconda3\\lib\\site-packages\\sklearn\\linear_model\\logistic.py:433: FutureWarning:\n",
      "\n",
      "Default solver will be changed to 'lbfgs' in 0.22. Specify a solver to silence this warning.\n",
      "\n",
      "C:\\Users\\student\\Anaconda3\\lib\\site-packages\\sklearn\\linear_model\\logistic.py:433: FutureWarning:\n",
      "\n",
      "Default solver will be changed to 'lbfgs' in 0.22. Specify a solver to silence this warning.\n",
      "\n"
     ]
    }
   ],
   "source": [
    "from sklearn.feature_selection import RFE\n",
    "from sklearn.linear_model import LogisticRegression\n",
    "from sklearn.metrics import accuracy_score\n",
    "\n",
    "# Choose the type of classifier. \n",
    "reg = LogisticRegression()\n",
    "\n",
    "rfe = RFE(reg, 15)\n",
    "# Fit the best algorithm to the data. \n",
    "rfe=rfe.fit(X_sm, y_sm)"
   ]
  },
  {
   "cell_type": "markdown",
   "metadata": {},
   "source": [
    "Code to display which features were chosen by the RFE model"
   ]
  },
  {
   "cell_type": "code",
   "execution_count": 33,
   "metadata": {},
   "outputs": [
    {
     "data": {
      "text/plain": [
       "array(['Gender', 'Edu_1. High School or Below', 'Edu_2. College',\n",
       "       'Edu_3. Bachelor', 'Employment_Employed', 'Location_Rural',\n",
       "       'Marital_Single', 'Cause_Collision', 'Cause_Hail', 'Cause_Other',\n",
       "       'Cause_Scratch/Dent', 'Class_Four-Door Car', 'Class_SUV',\n",
       "       'Class_Sports Car', 'Class_Two-Door Car'], dtype=object)"
      ]
     },
     "execution_count": 33,
     "metadata": {},
     "output_type": "execute_result"
    }
   ],
   "source": [
    "features_bool = np.array(rfe.support_)\n",
    "features = np.array(X_train.columns)\n",
    "result = features[features_bool]\n",
    "result"
   ]
  },
  {
   "cell_type": "markdown",
   "metadata": {},
   "source": [
    "Code to display the coefficients of the RFE model"
   ]
  },
  {
   "cell_type": "code",
   "execution_count": 47,
   "metadata": {},
   "outputs": [
    {
     "name": "stdout",
     "output_type": "stream",
     "text": [
      "[[-1.45174902  1.03677035 -0.52681841 -0.72826138  0.74281929  0.69914823\n",
      "   0.54637357  0.55411191 -2.31416034  0.53052092  1.3047259  -2.15789961\n",
      "  -0.60394548  1.3578326   0.6074249 ]]\n",
      "[-0.90716523]\n",
      "0.6302465023317788\n"
     ]
    }
   ],
   "source": [
    "print(rfe.estimator_.coef_)\n",
    "print(rfe.estimator_.intercept_)\n",
    "predictions = rfe.predict(X_test)\n",
    "print(accuracy_score(y_test, predictions))"
   ]
  },
  {
   "cell_type": "markdown",
   "metadata": {},
   "source": [
    "Code to run an RFE logistic regression on the undersampled data"
   ]
  },
  {
   "cell_type": "code",
   "execution_count": 35,
   "metadata": {},
   "outputs": [
    {
     "name": "stderr",
     "output_type": "stream",
     "text": [
      "C:\\Users\\student\\Anaconda3\\lib\\site-packages\\sklearn\\linear_model\\logistic.py:433: FutureWarning:\n",
      "\n",
      "Default solver will be changed to 'lbfgs' in 0.22. Specify a solver to silence this warning.\n",
      "\n",
      "C:\\Users\\student\\Anaconda3\\lib\\site-packages\\sklearn\\linear_model\\logistic.py:433: FutureWarning:\n",
      "\n",
      "Default solver will be changed to 'lbfgs' in 0.22. Specify a solver to silence this warning.\n",
      "\n",
      "C:\\Users\\student\\Anaconda3\\lib\\site-packages\\sklearn\\linear_model\\logistic.py:433: FutureWarning:\n",
      "\n",
      "Default solver will be changed to 'lbfgs' in 0.22. Specify a solver to silence this warning.\n",
      "\n",
      "C:\\Users\\student\\Anaconda3\\lib\\site-packages\\sklearn\\linear_model\\logistic.py:433: FutureWarning:\n",
      "\n",
      "Default solver will be changed to 'lbfgs' in 0.22. Specify a solver to silence this warning.\n",
      "\n",
      "C:\\Users\\student\\Anaconda3\\lib\\site-packages\\sklearn\\linear_model\\logistic.py:433: FutureWarning:\n",
      "\n",
      "Default solver will be changed to 'lbfgs' in 0.22. Specify a solver to silence this warning.\n",
      "\n",
      "C:\\Users\\student\\Anaconda3\\lib\\site-packages\\sklearn\\linear_model\\logistic.py:433: FutureWarning:\n",
      "\n",
      "Default solver will be changed to 'lbfgs' in 0.22. Specify a solver to silence this warning.\n",
      "\n",
      "C:\\Users\\student\\Anaconda3\\lib\\site-packages\\sklearn\\linear_model\\logistic.py:433: FutureWarning:\n",
      "\n",
      "Default solver will be changed to 'lbfgs' in 0.22. Specify a solver to silence this warning.\n",
      "\n",
      "C:\\Users\\student\\Anaconda3\\lib\\site-packages\\sklearn\\linear_model\\logistic.py:433: FutureWarning:\n",
      "\n",
      "Default solver will be changed to 'lbfgs' in 0.22. Specify a solver to silence this warning.\n",
      "\n",
      "C:\\Users\\student\\Anaconda3\\lib\\site-packages\\sklearn\\linear_model\\logistic.py:433: FutureWarning:\n",
      "\n",
      "Default solver will be changed to 'lbfgs' in 0.22. Specify a solver to silence this warning.\n",
      "\n",
      "C:\\Users\\student\\Anaconda3\\lib\\site-packages\\sklearn\\linear_model\\logistic.py:433: FutureWarning:\n",
      "\n",
      "Default solver will be changed to 'lbfgs' in 0.22. Specify a solver to silence this warning.\n",
      "\n",
      "C:\\Users\\student\\Anaconda3\\lib\\site-packages\\sklearn\\linear_model\\logistic.py:433: FutureWarning:\n",
      "\n",
      "Default solver will be changed to 'lbfgs' in 0.22. Specify a solver to silence this warning.\n",
      "\n",
      "C:\\Users\\student\\Anaconda3\\lib\\site-packages\\sklearn\\linear_model\\logistic.py:433: FutureWarning:\n",
      "\n",
      "Default solver will be changed to 'lbfgs' in 0.22. Specify a solver to silence this warning.\n",
      "\n",
      "C:\\Users\\student\\Anaconda3\\lib\\site-packages\\sklearn\\linear_model\\logistic.py:433: FutureWarning:\n",
      "\n",
      "Default solver will be changed to 'lbfgs' in 0.22. Specify a solver to silence this warning.\n",
      "\n",
      "C:\\Users\\student\\Anaconda3\\lib\\site-packages\\sklearn\\linear_model\\logistic.py:433: FutureWarning:\n",
      "\n",
      "Default solver will be changed to 'lbfgs' in 0.22. Specify a solver to silence this warning.\n",
      "\n",
      "C:\\Users\\student\\Anaconda3\\lib\\site-packages\\sklearn\\linear_model\\logistic.py:433: FutureWarning:\n",
      "\n",
      "Default solver will be changed to 'lbfgs' in 0.22. Specify a solver to silence this warning.\n",
      "\n",
      "C:\\Users\\student\\Anaconda3\\lib\\site-packages\\sklearn\\linear_model\\logistic.py:433: FutureWarning:\n",
      "\n",
      "Default solver will be changed to 'lbfgs' in 0.22. Specify a solver to silence this warning.\n",
      "\n",
      "C:\\Users\\student\\Anaconda3\\lib\\site-packages\\sklearn\\linear_model\\logistic.py:433: FutureWarning:\n",
      "\n",
      "Default solver will be changed to 'lbfgs' in 0.22. Specify a solver to silence this warning.\n",
      "\n",
      "C:\\Users\\student\\Anaconda3\\lib\\site-packages\\sklearn\\linear_model\\logistic.py:433: FutureWarning:\n",
      "\n",
      "Default solver will be changed to 'lbfgs' in 0.22. Specify a solver to silence this warning.\n",
      "\n",
      "C:\\Users\\student\\Anaconda3\\lib\\site-packages\\sklearn\\linear_model\\logistic.py:433: FutureWarning:\n",
      "\n",
      "Default solver will be changed to 'lbfgs' in 0.22. Specify a solver to silence this warning.\n",
      "\n",
      "C:\\Users\\student\\Anaconda3\\lib\\site-packages\\sklearn\\linear_model\\logistic.py:433: FutureWarning:\n",
      "\n",
      "Default solver will be changed to 'lbfgs' in 0.22. Specify a solver to silence this warning.\n",
      "\n",
      "C:\\Users\\student\\Anaconda3\\lib\\site-packages\\sklearn\\linear_model\\logistic.py:433: FutureWarning:\n",
      "\n",
      "Default solver will be changed to 'lbfgs' in 0.22. Specify a solver to silence this warning.\n",
      "\n",
      "C:\\Users\\student\\Anaconda3\\lib\\site-packages\\sklearn\\linear_model\\logistic.py:433: FutureWarning:\n",
      "\n",
      "Default solver will be changed to 'lbfgs' in 0.22. Specify a solver to silence this warning.\n",
      "\n",
      "C:\\Users\\student\\Anaconda3\\lib\\site-packages\\sklearn\\linear_model\\logistic.py:433: FutureWarning:\n",
      "\n",
      "Default solver will be changed to 'lbfgs' in 0.22. Specify a solver to silence this warning.\n",
      "\n",
      "C:\\Users\\student\\Anaconda3\\lib\\site-packages\\sklearn\\linear_model\\logistic.py:433: FutureWarning:\n",
      "\n",
      "Default solver will be changed to 'lbfgs' in 0.22. Specify a solver to silence this warning.\n",
      "\n",
      "C:\\Users\\student\\Anaconda3\\lib\\site-packages\\sklearn\\linear_model\\logistic.py:433: FutureWarning:\n",
      "\n",
      "Default solver will be changed to 'lbfgs' in 0.22. Specify a solver to silence this warning.\n",
      "\n",
      "C:\\Users\\student\\Anaconda3\\lib\\site-packages\\sklearn\\linear_model\\logistic.py:433: FutureWarning:\n",
      "\n",
      "Default solver will be changed to 'lbfgs' in 0.22. Specify a solver to silence this warning.\n",
      "\n",
      "C:\\Users\\student\\Anaconda3\\lib\\site-packages\\sklearn\\linear_model\\logistic.py:433: FutureWarning:\n",
      "\n",
      "Default solver will be changed to 'lbfgs' in 0.22. Specify a solver to silence this warning.\n",
      "\n",
      "C:\\Users\\student\\Anaconda3\\lib\\site-packages\\sklearn\\linear_model\\logistic.py:433: FutureWarning:\n",
      "\n",
      "Default solver will be changed to 'lbfgs' in 0.22. Specify a solver to silence this warning.\n",
      "\n",
      "C:\\Users\\student\\Anaconda3\\lib\\site-packages\\sklearn\\linear_model\\logistic.py:433: FutureWarning:\n",
      "\n",
      "Default solver will be changed to 'lbfgs' in 0.22. Specify a solver to silence this warning.\n",
      "\n",
      "C:\\Users\\student\\Anaconda3\\lib\\site-packages\\sklearn\\linear_model\\logistic.py:433: FutureWarning:\n",
      "\n",
      "Default solver will be changed to 'lbfgs' in 0.22. Specify a solver to silence this warning.\n",
      "\n",
      "C:\\Users\\student\\Anaconda3\\lib\\site-packages\\sklearn\\linear_model\\logistic.py:433: FutureWarning:\n",
      "\n",
      "Default solver will be changed to 'lbfgs' in 0.22. Specify a solver to silence this warning.\n",
      "\n",
      "C:\\Users\\student\\Anaconda3\\lib\\site-packages\\sklearn\\linear_model\\logistic.py:433: FutureWarning:\n",
      "\n",
      "Default solver will be changed to 'lbfgs' in 0.22. Specify a solver to silence this warning.\n",
      "\n",
      "C:\\Users\\student\\Anaconda3\\lib\\site-packages\\sklearn\\linear_model\\logistic.py:433: FutureWarning:\n",
      "\n",
      "Default solver will be changed to 'lbfgs' in 0.22. Specify a solver to silence this warning.\n",
      "\n",
      "C:\\Users\\student\\Anaconda3\\lib\\site-packages\\sklearn\\linear_model\\logistic.py:433: FutureWarning:\n",
      "\n",
      "Default solver will be changed to 'lbfgs' in 0.22. Specify a solver to silence this warning.\n",
      "\n",
      "C:\\Users\\student\\Anaconda3\\lib\\site-packages\\sklearn\\linear_model\\logistic.py:433: FutureWarning:\n",
      "\n",
      "Default solver will be changed to 'lbfgs' in 0.22. Specify a solver to silence this warning.\n",
      "\n",
      "C:\\Users\\student\\Anaconda3\\lib\\site-packages\\sklearn\\linear_model\\logistic.py:433: FutureWarning:\n",
      "\n",
      "Default solver will be changed to 'lbfgs' in 0.22. Specify a solver to silence this warning.\n",
      "\n",
      "C:\\Users\\student\\Anaconda3\\lib\\site-packages\\sklearn\\linear_model\\logistic.py:433: FutureWarning:\n",
      "\n",
      "Default solver will be changed to 'lbfgs' in 0.22. Specify a solver to silence this warning.\n",
      "\n",
      "C:\\Users\\student\\Anaconda3\\lib\\site-packages\\sklearn\\linear_model\\logistic.py:433: FutureWarning:\n",
      "\n",
      "Default solver will be changed to 'lbfgs' in 0.22. Specify a solver to silence this warning.\n",
      "\n",
      "C:\\Users\\student\\Anaconda3\\lib\\site-packages\\sklearn\\linear_model\\logistic.py:433: FutureWarning:\n",
      "\n",
      "Default solver will be changed to 'lbfgs' in 0.22. Specify a solver to silence this warning.\n",
      "\n",
      "C:\\Users\\student\\Anaconda3\\lib\\site-packages\\sklearn\\linear_model\\logistic.py:433: FutureWarning:\n",
      "\n",
      "Default solver will be changed to 'lbfgs' in 0.22. Specify a solver to silence this warning.\n",
      "\n",
      "C:\\Users\\student\\Anaconda3\\lib\\site-packages\\sklearn\\linear_model\\logistic.py:433: FutureWarning:\n",
      "\n",
      "Default solver will be changed to 'lbfgs' in 0.22. Specify a solver to silence this warning.\n",
      "\n",
      "C:\\Users\\student\\Anaconda3\\lib\\site-packages\\sklearn\\linear_model\\logistic.py:433: FutureWarning:\n",
      "\n",
      "Default solver will be changed to 'lbfgs' in 0.22. Specify a solver to silence this warning.\n",
      "\n",
      "C:\\Users\\student\\Anaconda3\\lib\\site-packages\\sklearn\\linear_model\\logistic.py:433: FutureWarning:\n",
      "\n",
      "Default solver will be changed to 'lbfgs' in 0.22. Specify a solver to silence this warning.\n",
      "\n",
      "C:\\Users\\student\\Anaconda3\\lib\\site-packages\\sklearn\\linear_model\\logistic.py:433: FutureWarning:\n",
      "\n",
      "Default solver will be changed to 'lbfgs' in 0.22. Specify a solver to silence this warning.\n",
      "\n",
      "C:\\Users\\student\\Anaconda3\\lib\\site-packages\\sklearn\\linear_model\\logistic.py:433: FutureWarning:\n",
      "\n",
      "Default solver will be changed to 'lbfgs' in 0.22. Specify a solver to silence this warning.\n",
      "\n",
      "C:\\Users\\student\\Anaconda3\\lib\\site-packages\\sklearn\\linear_model\\logistic.py:433: FutureWarning:\n",
      "\n",
      "Default solver will be changed to 'lbfgs' in 0.22. Specify a solver to silence this warning.\n",
      "\n"
     ]
    }
   ],
   "source": [
    "# Choose the type of classifier. \n",
    "reg = LogisticRegression()\n",
    "\n",
    "rfe_under = RFE(reg, 15)\n",
    "# Fit the best algorithm to the data. \n",
    "rfe=rfe_under.fit(X_rus, y_rus)"
   ]
  },
  {
   "cell_type": "markdown",
   "metadata": {},
   "source": [
    "Code to implement a random forest model on the SMOTE oversampled data"
   ]
  },
  {
   "cell_type": "code",
   "execution_count": 36,
   "metadata": {},
   "outputs": [
    {
     "name": "stdout",
     "output_type": "stream",
     "text": [
      "0.798800799467022\n"
     ]
    }
   ],
   "source": [
    "from sklearn.ensemble import RandomForestClassifier\n",
    "from sklearn.metrics import accuracy_score\n",
    "\n",
    "# Choose the type of classifier. \n",
    "forest = RandomForestClassifier(n_estimators=15, criterion=\"entropy\", max_depth=3, min_samples_leaf=10, random_state=150)\n",
    "\n",
    "# Fit the best algorithm to the data. \n",
    "forest.fit(X_sm2, y_sm2)\n",
    "\n",
    "predictions = forest.predict(X_test2)\n",
    "print(accuracy_score(y_test2, predictions))"
   ]
  },
  {
   "cell_type": "markdown",
   "metadata": {},
   "source": [
    "Code to implement a random forest on the undersampled data"
   ]
  },
  {
   "cell_type": "code",
   "execution_count": 37,
   "metadata": {},
   "outputs": [
    {
     "name": "stdout",
     "output_type": "stream",
     "text": [
      "0.6728847435043305\n"
     ]
    }
   ],
   "source": [
    "# Choose the type of classifier. \n",
    "forest_under = RandomForestClassifier(n_estimators=15, criterion=\"gini\", max_depth=3, min_samples_leaf=10, random_state=150)\n",
    "\n",
    "# Fit the best algorithm to the data. \n",
    "forest_under.fit(X_rus2, y_rus2)\n",
    "\n",
    "predictions = forest_under.predict(X_test2)\n",
    "print(accuracy_score(y_test2, predictions))"
   ]
  },
  {
   "cell_type": "markdown",
   "metadata": {},
   "source": [
    "Code to implement a neural network on the SMOTE oversampled data"
   ]
  },
  {
   "cell_type": "code",
   "execution_count": 38,
   "metadata": {},
   "outputs": [
    {
     "data": {
      "text/plain": [
       "StandardScaler(copy=True, with_mean=True, with_std=True)"
      ]
     },
     "execution_count": 38,
     "metadata": {},
     "output_type": "execute_result"
    }
   ],
   "source": [
    "# Data must be standardized before running a neural network\n",
    "from sklearn.preprocessing import StandardScaler\n",
    "scaler = StandardScaler()\n",
    "# Fit only to the training data\n",
    "scaler.fit(X_sm)"
   ]
  },
  {
   "cell_type": "code",
   "execution_count": 39,
   "metadata": {},
   "outputs": [
    {
     "name": "stderr",
     "output_type": "stream",
     "text": [
      "C:\\Users\\student\\Anaconda3\\lib\\site-packages\\ipykernel_launcher.py:3: DataConversionWarning:\n",
      "\n",
      "Data with input dtype uint8, int64, float64 were all converted to float64 by StandardScaler.\n",
      "\n"
     ]
    }
   ],
   "source": [
    "# The transformations are applied to the oversampled data:\n",
    "X_sm = scaler.transform(X_sm)\n",
    "X_test = scaler.transform(X_test)"
   ]
  },
  {
   "cell_type": "code",
   "execution_count": 40,
   "metadata": {},
   "outputs": [],
   "source": [
    "from sklearn.neural_network import MLPClassifier\n",
    "\n",
    "mlp = MLPClassifier(hidden_layer_sizes=(60,60,60), activation= 'identity')\n",
    "\n",
    "mlp.fit(X_sm,y_sm)\n",
    "\n",
    "predictions = mlp.predict(X_test)\n"
   ]
  },
  {
   "cell_type": "markdown",
   "metadata": {},
   "source": [
    "Code to display the confusion matrix and evaluation metrics for a neural network"
   ]
  },
  {
   "cell_type": "code",
   "execution_count": 41,
   "metadata": {},
   "outputs": [
    {
     "name": "stdout",
     "output_type": "stream",
     "text": [
      "[[1006  396]\n",
      " [  28   71]]\n",
      "              precision    recall  f1-score   support\n",
      "\n",
      "           0       0.97      0.72      0.83      1402\n",
      "           1       0.15      0.72      0.25        99\n",
      "\n",
      "   micro avg       0.72      0.72      0.72      1501\n",
      "   macro avg       0.56      0.72      0.54      1501\n",
      "weighted avg       0.92      0.72      0.79      1501\n",
      "\n"
     ]
    }
   ],
   "source": [
    "from sklearn.metrics import classification_report,confusion_matrix\n",
    "print(confusion_matrix(y_test,predictions))\n",
    "\n",
    "\n",
    "print(classification_report(y_test,predictions))\n"
   ]
  },
  {
   "cell_type": "markdown",
   "metadata": {},
   "source": [
    "Code to run a neural network on the undersampled data"
   ]
  },
  {
   "cell_type": "code",
   "execution_count": 42,
   "metadata": {},
   "outputs": [],
   "source": [
    "# The transformations are applied to the undersampled data:\n",
    "X_rus = scaler.transform(X_rus)\n",
    "X_test = scaler.transform(X_test)"
   ]
  },
  {
   "cell_type": "code",
   "execution_count": 43,
   "metadata": {},
   "outputs": [],
   "source": [
    "mlp2 = MLPClassifier(hidden_layer_sizes=(60,60,60), activation= 'identity')\n",
    "\n",
    "mlp2.fit(X_rus,y_rus)\n",
    "\n",
    "predictions = mlp2.predict(X_test)\n"
   ]
  },
  {
   "cell_type": "code",
   "execution_count": 44,
   "metadata": {},
   "outputs": [
    {
     "name": "stdout",
     "output_type": "stream",
     "text": [
      "[[786 616]\n",
      " [ 19  80]]\n",
      "              precision    recall  f1-score   support\n",
      "\n",
      "           0       0.98      0.56      0.71      1402\n",
      "           1       0.11      0.81      0.20        99\n",
      "\n",
      "   micro avg       0.58      0.58      0.58      1501\n",
      "   macro avg       0.55      0.68      0.46      1501\n",
      "weighted avg       0.92      0.58      0.68      1501\n",
      "\n"
     ]
    }
   ],
   "source": [
    "print(confusion_matrix(y_test,predictions))\n",
    "\n",
    "print(classification_report(y_test,predictions))\n"
   ]
  },
  {
   "cell_type": "markdown",
   "metadata": {},
   "source": [
    "Code to run all of our models that were run on the SMOTE oversampled data against the true testing dataset to see which performs best"
   ]
  },
  {
   "cell_type": "code",
   "execution_count": 45,
   "metadata": {},
   "outputs": [
    {
     "name": "stdout",
     "output_type": "stream",
     "text": [
      "Decision Tree\n",
      "Accuracy Score: 0.6981037924151696\n",
      "\n",
      "Confusion Matrix:\n",
      " [[2674  756]\n",
      " [ 454  124]]\n",
      "\n",
      "Classification Report:\n",
      "               precision    recall  f1-score   support\n",
      "\n",
      "           0       0.85      0.78      0.82      3430\n",
      "           1       0.14      0.21      0.17       578\n",
      "\n",
      "   micro avg       0.70      0.70      0.70      4008\n",
      "   macro avg       0.50      0.50      0.49      4008\n",
      "weighted avg       0.75      0.70      0.72      4008\n",
      "\n",
      "\n",
      "Random Forest\n",
      "Accuracy Score: 0.781437125748503\n",
      "\n",
      "Confusion Matrix:\n",
      " [[3067  363]\n",
      " [ 513   65]]\n",
      "\n",
      "Classification Report:\n",
      "               precision    recall  f1-score   support\n",
      "\n",
      "           0       0.86      0.89      0.88      3430\n",
      "           1       0.15      0.11      0.13       578\n",
      "\n",
      "   micro avg       0.78      0.78      0.78      4008\n",
      "   macro avg       0.50      0.50      0.50      4008\n",
      "weighted avg       0.76      0.78      0.77      4008\n",
      "\n",
      "\n",
      "Logistic Regression\n",
      "Accuracy Score: 0.5895708582834331\n",
      "\n",
      "Confusion Matrix:\n",
      " [[2172 1258]\n",
      " [ 387  191]]\n",
      "\n",
      "Classification Report:\n",
      "               precision    recall  f1-score   support\n",
      "\n",
      "           0       0.85      0.63      0.73      3430\n",
      "           1       0.13      0.33      0.19       578\n",
      "\n",
      "   micro avg       0.59      0.59      0.59      4008\n",
      "   macro avg       0.49      0.48      0.46      4008\n",
      "weighted avg       0.75      0.59      0.65      4008\n",
      "\n",
      "\n",
      "Neural Network\n",
      "Accuracy Score: 0.8293413173652695\n",
      "\n",
      "Confusion Matrix:\n",
      " [[3306  124]\n",
      " [ 560   18]]\n",
      "\n",
      "Classification Report:\n",
      "               precision    recall  f1-score   support\n",
      "\n",
      "           0       0.86      0.96      0.91      3430\n",
      "           1       0.13      0.03      0.05       578\n",
      "\n",
      "   micro avg       0.83      0.83      0.83      4008\n",
      "   macro avg       0.49      0.50      0.48      4008\n",
      "weighted avg       0.75      0.83      0.78      4008\n",
      "\n"
     ]
    }
   ],
   "source": [
    "print(\"Decision Tree\")\n",
    "predictions_tree = tree.predict(fraud_test_encoded.drop(['Claimant__Number','Fraudulent_Claim'], axis=1))\n",
    "print(\"Accuracy Score:\",accuracy_score(fraud_test_encoded.Fraudulent_Claim, predictions_tree))\n",
    "print(\"\\nConfusion Matrix:\\n\",confusion_matrix(fraud_test_dummies.Fraudulent_Claim,predictions_tree))\n",
    "print(\"\\nClassification Report:\\n\",classification_report(fraud_test_dummies.Fraudulent_Claim,predictions_tree))\n",
    "\n",
    "print(\"\\nRandom Forest\")\n",
    "predictions_forest = forest.predict(fraud_test_encoded.drop(['Claimant__Number','Fraudulent_Claim'], axis=1))\n",
    "print(\"Accuracy Score:\",accuracy_score(fraud_test_encoded.Fraudulent_Claim, predictions_forest))\n",
    "print(\"\\nConfusion Matrix:\\n\",confusion_matrix(fraud_test_dummies.Fraudulent_Claim,predictions_forest))\n",
    "print(\"\\nClassification Report:\\n\",classification_report(fraud_test_dummies.Fraudulent_Claim,predictions_forest))\n",
    "\n",
    "print(\"\\nLogistic Regression\")\n",
    "predictions_reg = rfe.predict(fraud_test_dummies.drop(['Claimant__Number','Fraudulent_Claim'], axis=1))\n",
    "print(\"Accuracy Score:\",accuracy_score(fraud_test_dummies.Fraudulent_Claim, predictions_reg))\n",
    "print(\"\\nConfusion Matrix:\\n\",confusion_matrix(fraud_test_dummies.Fraudulent_Claim,predictions_reg))\n",
    "print(\"\\nClassification Report:\\n\",classification_report(fraud_test_dummies.Fraudulent_Claim,predictions_reg))\n",
    "\n",
    "print(\"\\nNeural Network\")\n",
    "predictions_nno = mlp.predict(fraud_test_dummies.drop(['Claimant__Number','Fraudulent_Claim'], axis=1))\n",
    "print(\"Accuracy Score:\",accuracy_score(fraud_test_dummies.Fraudulent_Claim, predictions_nno))\n",
    "print(\"\\nConfusion Matrix:\\n\",confusion_matrix(fraud_test_dummies.Fraudulent_Claim,predictions_nno))\n",
    "print(\"\\nClassification Report:\\n\",classification_report(fraud_test_dummies.Fraudulent_Claim,predictions_nno))\n"
   ]
  },
  {
   "cell_type": "markdown",
   "metadata": {},
   "source": [
    "Code to run all of the models trainined on the undersampled data against the true testing data"
   ]
  },
  {
   "cell_type": "code",
   "execution_count": 46,
   "metadata": {
    "scrolled": true
   },
   "outputs": [
    {
     "name": "stdout",
     "output_type": "stream",
     "text": [
      "Decision Tree\n",
      "Accuracy Score: 0.49101796407185627\n",
      "\n",
      "Confusion Matrix:\n",
      " [[1690 1740]\n",
      " [ 300  278]]\n",
      "\n",
      "Classification Report:\n",
      "               precision    recall  f1-score   support\n",
      "\n",
      "           0       0.85      0.49      0.62      3430\n",
      "           1       0.14      0.48      0.21       578\n",
      "\n",
      "   micro avg       0.49      0.49      0.49      4008\n",
      "   macro avg       0.49      0.49      0.42      4008\n",
      "weighted avg       0.75      0.49      0.56      4008\n",
      "\n",
      "\n",
      "Random Forest\n",
      "Accuracy Score: 0.5800898203592815\n",
      "\n",
      "Confusion Matrix:\n",
      " [[2135 1295]\n",
      " [ 388  190]]\n",
      "\n",
      "Classification Report:\n",
      "               precision    recall  f1-score   support\n",
      "\n",
      "           0       0.85      0.62      0.72      3430\n",
      "           1       0.13      0.33      0.18       578\n",
      "\n",
      "   micro avg       0.58      0.58      0.58      4008\n",
      "   macro avg       0.49      0.48      0.45      4008\n",
      "weighted avg       0.74      0.58      0.64      4008\n",
      "\n",
      "\n",
      "Logistic Regression\n",
      "Accuracy Score: 0.5895708582834331\n",
      "\n",
      "Confusion Matrix:\n",
      " [[2172 1258]\n",
      " [ 387  191]]\n",
      "\n",
      "Classification Report:\n",
      "               precision    recall  f1-score   support\n",
      "\n",
      "           0       0.85      0.63      0.73      3430\n",
      "           1       0.13      0.33      0.19       578\n",
      "\n",
      "   micro avg       0.59      0.59      0.59      4008\n",
      "   macro avg       0.49      0.48      0.46      4008\n",
      "weighted avg       0.75      0.59      0.65      4008\n",
      "\n",
      "\n",
      "Neural Network\n",
      "Accuracy Score: 0.8293413173652695\n",
      "\n",
      "Confusion Matrix:\n",
      " [[3351   79]\n",
      " [ 566   12]]\n",
      "\n",
      "Classification Report:\n",
      "               precision    recall  f1-score   support\n",
      "\n",
      "           0       0.86      0.98      0.91      3430\n",
      "           1       0.13      0.02      0.04       578\n",
      "\n",
      "   micro avg       0.84      0.84      0.84      4008\n",
      "   macro avg       0.49      0.50      0.47      4008\n",
      "weighted avg       0.75      0.84      0.79      4008\n",
      "\n"
     ]
    }
   ],
   "source": [
    "print(\"Decision Tree\")\n",
    "predictions_tree_u = tree_under.predict(fraud_test_encoded.drop(['Claimant__Number','Fraudulent_Claim'], axis=1))\n",
    "print(\"Accuracy Score:\",accuracy_score(fraud_test_encoded.Fraudulent_Claim, predictions_tree_u))\n",
    "print(\"\\nConfusion Matrix:\\n\",confusion_matrix(fraud_test_dummies.Fraudulent_Claim,predictions_tree_u))\n",
    "print(\"\\nClassification Report:\\n\",classification_report(fraud_test_dummies.Fraudulent_Claim,predictions_tree_u))\n",
    "\n",
    "print(\"\\nRandom Forest\")\n",
    "predictions_forest_u = forest_under.predict(fraud_test_encoded.drop(['Claimant__Number','Fraudulent_Claim'], axis=1))\n",
    "print(\"Accuracy Score:\",accuracy_score(fraud_test_encoded.Fraudulent_Claim, predictions_forest_u))\n",
    "print(\"\\nConfusion Matrix:\\n\",confusion_matrix(fraud_test_dummies.Fraudulent_Claim,predictions_forest_u))\n",
    "print(\"\\nClassification Report:\\n\",classification_report(fraud_test_dummies.Fraudulent_Claim,predictions_forest_u))\n",
    "\n",
    "print(\"\\nLogistic Regression\")\n",
    "predictions_reg_u = rfe_under.predict(fraud_test_dummies.drop(['Claimant__Number','Fraudulent_Claim'], axis=1))\n",
    "print(\"Accuracy Score:\",accuracy_score(fraud_test_dummies.Fraudulent_Claim, predictions_reg_u))\n",
    "print(\"\\nConfusion Matrix:\\n\",confusion_matrix(fraud_test_dummies.Fraudulent_Claim,predictions_reg_u))\n",
    "print(\"\\nClassification Report:\\n\",classification_report(fraud_test_dummies.Fraudulent_Claim,predictions_reg_u))\n",
    "\n",
    "print(\"\\nNeural Network\")\n",
    "predictions_nnu = mlp2.predict(fraud_test_dummies.drop(['Claimant__Number','Fraudulent_Claim'], axis=1))\n",
    "print(\"Accuracy Score:\",accuracy_score(fraud_test_dummies.Fraudulent_Claim, predictions_nno))\n",
    "print(\"\\nConfusion Matrix:\\n\",confusion_matrix(fraud_test_dummies.Fraudulent_Claim,predictions_nnu))\n",
    "print(\"\\nClassification Report:\\n\",classification_report(fraud_test_dummies.Fraudulent_Claim,predictions_nnu))"
   ]
  },
  {
   "cell_type": "code",
   "execution_count": null,
   "metadata": {},
   "outputs": [],
   "source": []
  }
 ],
 "metadata": {
  "kernelspec": {
   "display_name": "Python 3",
   "language": "python",
   "name": "python3"
  },
  "language_info": {
   "codemirror_mode": {
    "name": "ipython",
    "version": 3
   },
   "file_extension": ".py",
   "mimetype": "text/x-python",
   "name": "python",
   "nbconvert_exporter": "python",
   "pygments_lexer": "ipython3",
   "version": "3.6.5"
  }
 },
 "nbformat": 4,
 "nbformat_minor": 2
}
